{
 "cells": [
  {
   "cell_type": "markdown",
   "metadata": {
    "id": "LvY5HmUunwPF"
   },
   "source": [
    "# Python Notebook"
   ]
  },
  {
   "cell_type": "markdown",
   "metadata": {
    "id": "TaDKOQpiq-GJ"
   },
   "source": [
    "## Regular Python Files"
   ]
  },
  {
   "cell_type": "markdown",
   "metadata": {
    "id": "k_x95BCVJ9Nd"
   },
   "source": [
    "#### PopCat (popcat.py)"
   ]
  },
  {
   "cell_type": "code",
   "execution_count": null,
   "metadata": {
    "id": "0cVk5Ik5KAKy"
   },
   "outputs": [],
   "source": [
    "import time\n",
    "import os\n",
    "\n",
    "clrscr = lambda: os.system('cls' if os.name in ('nt', 'dos') else 'clear')\n",
    "sleep = lambda: time.sleep(0.5)\n",
    "\n",
    "popcat_openmouth_ascii = \" \\\n",
    "@@@@@@@@@@@@@@@@@@@@@@@@@@@@@@@@@@@@@@@@@@@@@@@@@@@\\n \\\n",
    "@@@@@@@@@@@@@@@@@@@@@@@@@@@@@@@@@@@@@@@@@@@@@@@@@@@\\n \\\n",
    "@@@,,,,,@@@@@@@@@@@@@@@@@@@@@@@@@@@@@,,,,.@@@@@@@@@\\n \\\n",
    "@@//((///,,,@@@@@@@@@@@@@@@@@@@@@(**,,,,,,@@@@@@@@@\\n \\\n",
    "@@((((/(//(/,,@@@@@@@/,,,......,///*,,****@@@@@@@@@\\n \\\n",
    "@*(((((((//(((((((((/*,.         ..//(****,@@@@@@@@\\n \\\n",
    "@*/((((((((/((((((/,,/##*.   .,*////,....*,,@@@@@@@\\n \\\n",
    "@@***((((((((((((//(*.   .,*/(#%%%%%%#(*....,,@@@@@\\n \\\n",
    "@@@*,***/(((((((/,....,*(%&@@@@@@@@@@@@@&#(/***.@@2\\n \\\n",
    "@@@@,,*,*/((((%#/****/#@@@@@@@@@@@@@@@@@@@@%((/*@@@\\n \\\n",
    "@@@@@ *(#####%%(////(&@@@@@@@@@@@@@@@@@@@@@@%#(/*@@\\n \\\n",
    "@@@@@@@*#%&&&%((/((#&@@@@@@@@@@@@@@@@@@@@@@@%#(/*@@\\n \\\n",
    "@@@@@@@*/%&&&#((/((#@@@&&&&&@@@@@@@@@&&&&&&&%#(//@@\\n \\\n",
    "@@@@@@@@(*&&&%#(((((%&&&&&&&&&&&&&&&&&&&&&&%#((/(@@\\n \\\n",
    "@@@@@@@@@,*%&%((/(/(((#%%%&&&&&&&&&&&&&&%%##((/*@@@\\n \\\n",
    "@@@@@@@@@@*//((///////(((###%%%%%%%%%%%##((((/,@@@@\\n \\\n",
    "@@@@@@@@@.*//////////////(((((((#####(((((((*@@@@@@\\n \\\n",
    "@@@@@@@@@***///////////(/((((((((((((((((((*,@@@@@@\\n \\\n",
    "@@@@@@@@*****///////////((((((((((((((((((/*@@@@@@@\\n \\\n",
    "@@@@@@@,*****////////////////(((((((((((((/*(@@@@@@\\n \\\n",
    "@@@@@@,******///*///////////((((/(((((((////(@@@@@@\\n \\\n",
    "@@@@@@,**********////////////(((/(((((((////(@@@@@@\\n \\\n",
    "@@@@@.**************/////////////(((((((////@@@@@@@\\n \\\n",
    "@@@@@,***************////////////(((((((/(//@@@@@@@\\n \\\n",
    "@@@@@,**************//////////////((/(((////@@@@@@@\\n \\\n",
    "@@@@@,***////***//**/**/////////////(///(((/@@@@@@@\\n \\\n",
    "@@@@@@@@@@@@@@@@@@@@@@@@@@@@@@@@@@@@@@@@@@@@@@@@@@@\\n \\\n",
    "\"\n",
    "\n",
    "popcat_closemouth_ascii = \" \\\n",
    "@@@@@@@@@@@@@@@@@@@@@@@@@@@@@@@@@@@@@@@@@@@@@@@@@@@\\n \\\n",
    "@@@@@@@@@@@@@@@@@@@@@@@@@@@@@@@@@@@@@@@@@@@@@@@@@@@\\n \\\n",
    "@@@@@@@@@@@@@@@@@@@@@@@@@@@@@@@@@@@@@@,,,,,@@@@@@@@\\n \\\n",
    "@@@@@*//((//*/@@@@@@@@@@@@@@@@@@@@@@**,,,,,%@@@@@@@\\n \\\n",
    "@@@@@*(((////(/*,@@@@@@@@@@@@@@@@@///*,,,**%@@@@@@@\\n \\\n",
    "@@@@@*((((((///((((///////**.     .*/******@@@@@@@@\\n \\\n",
    "@@@@@(/(((((((//(((((//*..          .,*//**@@@@@@@@\\n \\\n",
    "@@@@@@(**((((((///////*(####*       ,#%%#/*,@@@@@@@\\n \\\n",
    "@@@@@@@/****(((((((((/,,,((#/,        .....,//@@@@@\\n \\\n",
    "@@@@@@@@,,**/((((##%#(*,,,...  ..,////.....,*//*@@@\\n \\\n",
    "@@@@@@@@@,/#####%%%%#(///////((((/((((((((((((//(@@\\n \\\n",
    "@@@@@@@@@@,(%%%&&&%##///(((((((((((((((((((((((/,@@\\n \\\n",
    "@@@@@@@@@@@*#%&&&&###(///((((((((((((((((((((((*#@@\\n \\\n",
    "@@@@@@@@@@@@*#&&&&%%((////(((((((((((((((((((/*@@@@\\n \\\n",
    "@@@@@@@@@@@@@,(%%&#((////////(((((((((((((((/,@@@@@\\n \\\n",
    "@@@@@@@@@@@@@,////////////////(((((((((((((/*,@@@@@\\n \\\n",
    "@@@@@@@@@@@@***//////////////((((((((((((((/*,@@@@@\\n \\\n",
    "@@@@@@@@@@@***//////////////////(((((((((((/**@@@@@\\n \\\n",
    "@@@@@@@@@@(****///////////////////((((((((///*@@@@@\\n \\\n",
    "@@@@@@@@@@******////////////////////(((((((//**@@@@\\n \\\n",
    "@@@@@@@@@,******////////////////////((((((////(@@@@\\n \\\n",
    "@@@@@@@@@********////////////////////(((((////*@@@@\\n \\\n",
    "@@@@@@@@.************/////////////////(((((///*@@@@\\n \\\n",
    "@@@@@@@@,************////////////////((((/////*@@@@\\n \\\n",
    "@@@@@@@@,************////////////////((((/////,@@@@\\n \\\n",
    "@@@@@@@@***/*******///////////////////////////,%@@@\\n \\\n",
    "@@@@@@@@************//////////////////////////,,@@@\\n \\\n",
    "\"\n",
    "\n",
    "while True:\n",
    "    clrscr()\n",
    "    print(popcat_closemouth_ascii)\n",
    "    sleep()\n",
    "    clrscr()\n",
    "    print(popcat_openmouth_ascii)\n",
    "    sleep()"
   ]
  },
  {
   "cell_type": "markdown",
   "metadata": {
    "id": "6meUkvYRog_C"
   },
   "source": [
    "#### Hello World (hello.py)\n"
   ]
  },
  {
   "cell_type": "code",
   "execution_count": null,
   "metadata": {
    "id": "d-ycTFqznmKU"
   },
   "outputs": [],
   "source": [
    "print(\"Hello, World\")"
   ]
  },
  {
   "cell_type": "markdown",
   "metadata": {
    "id": "r2VjQEoFonCU"
   },
   "source": [
    "#### Calculator (calculator.py)"
   ]
  },
  {
   "cell_type": "code",
   "execution_count": null,
   "metadata": {
    "id": "KINZ6WFknvxC"
   },
   "outputs": [],
   "source": [
    "print(\"Calculator v1.0\")\n",
    "print(\"Copyright (c) 2020 miniprime1\\n\")\n",
    "\n",
    "print(\"Options\")\n",
    "print(\"1. Addition\")\n",
    "print(\"2. Subtraction\")\n",
    "print(\"3. Multiplication\")\n",
    "print(\"4. Division\")\n",
    "choice = input(\"Enter choice: \")\n",
    "\n",
    "print()\n",
    "if choice == \"1\":\n",
    "    x = float(input(\"Enter 1st input: \"))\n",
    "    y = float(input(\"Enter 2nd input: \"))\n",
    "    print(\"\")\n",
    "    print(\"Result\")\n",
    "    print(x, \"+\", y, \"=\", x + y)\n",
    "\n",
    "elif choice == \"2\":\n",
    "    x = float(input(\"Enter 1st input: \"))\n",
    "    y = float(input(\"Enter 2nd input: \"))\n",
    "    print(\"\")\n",
    "    print(\"Result\")\n",
    "    print(x, \"-\", y, \"=\", x - y)\n",
    "\n",
    "elif choice == \"3\":\n",
    "    x = float(input(\"Enter 1st input: \"))\n",
    "    y = float(input(\"Enter 2nd input: \"))\n",
    "    print(\"\")\n",
    "    print(\"Result\")\n",
    "    print(x, \"*\", y, \"=\", x * y)\n",
    "\n",
    "elif choice == \"4\":\n",
    "    x = float(input(\"Enter 1st input: \"))\n",
    "    y = float(input(\"Enter 2nd input: \"))\n",
    "    print(\"\")\n",
    "    print(\"Result\")\n",
    "    print(x, \"/\", y, \"=\", x/y if y!=0 else \"Nan\")\n",
    "    \n",
    "else:\n",
    "    print(\"Error: Invalid Choice\")"
   ]
  },
  {
   "cell_type": "markdown",
   "metadata": {
    "id": "s4QczTb4o_4-"
   },
   "source": [
    "#### Date (date.py)"
   ]
  },
  {
   "cell_type": "code",
   "execution_count": null,
   "metadata": {
    "id": "n6OaSHQ8pPk1"
   },
   "outputs": [],
   "source": [
    "import time\n",
    "print(time.ctime())"
   ]
  },
  {
   "cell_type": "markdown",
   "metadata": {
    "id": "slUIV2a2prHw"
   },
   "source": [
    "#### Zip (py_zip.py)"
   ]
  },
  {
   "cell_type": "code",
   "execution_count": null,
   "metadata": {
    "id": "aycaT1D1pvjd"
   },
   "outputs": [],
   "source": [
    "import os, sys\n",
    "from zipfile import *\n",
    "\n",
    "print(\"Zip, version 1.0\")\n",
    "print(\"Copyright (c) 2020 miniprime1\\n\")\n",
    "\n",
    "print(\"Options\")\n",
    "print(\"1. Create (Create zip file from directory)\")\n",
    "print(\"2. Extract (Extract zip file to directory)\")\n",
    "print(\"3. Read (Read zip file, and show detail of files)\")\n",
    "print(\"4. Exit\")\n",
    "option = input(\"Enter choice: \")\n",
    "\n",
    "if option == \"1\":\n",
    "    path = input(\"\\nEnter the path of the zip file to save: \")\n",
    "    src = input(\"Enter path of the source directory: \")\n",
    "    zip = ZipFile(path, 'w')\n",
    "    for folder, subfolders, files in os.walk(src):\n",
    "        for file in files:\n",
    "            zip.write(os.path.join(folder, file), os.path.relpath(os.path.join(folder,file), src), compress_type = ZIP_DEFLATED)\n",
    "\n",
    "    print(\"\\nDone!\")\n",
    "    \n",
    "    zip.close()\n",
    "\n",
    "elif option == \"2\":\n",
    "    path = input(\"\\nEnter the path of the zip file to open: \")\n",
    "    out = input(\"Enter the path of the output directory: \")\n",
    "    zip = ZipFile(path)\n",
    "    zip.extractall(out)\n",
    "    print(\"\\nDone!\")\n",
    "    zip.close()\n",
    "\n",
    "elif option == \"3\":\n",
    "    i = 0\n",
    "    path = input(\"\\nEnter the path of the zip file to open: \")\n",
    "    zip = ZipFile(path)\n",
    "    for file in zip.namelist():\n",
    "        i = i + 1\n",
    "        info = zip.getinfo(file)\n",
    "        print(\"\\n\" + str(i) + \". \" + str(info.filename))\n",
    "        print(\"Name: \" + str(info.filename))\n",
    "        print(\"Date Time: \" + str(info.date_time))\n",
    "        print(\"Compressed Size: \" + str(info.compress_size))\n",
    "        print(\"File Size: \" + str(info.file_size))\n",
    "\n",
    "elif option == \"4\":\n",
    "    sys.exit()\n",
    "\n",
    "else:\n",
    "    print(\"\\nError: invalid choice\")"
   ]
  },
  {
   "cell_type": "markdown",
   "metadata": {
    "id": "lUhAsOCmlZS4"
   },
   "source": [
    "#### Untitled (untitled.py)"
   ]
  },
  {
   "cell_type": "code",
   "execution_count": null,
   "metadata": {
    "id": "77c4hF7albop"
   },
   "outputs": [],
   "source": [
    "print(''.join([chr((0x726f79>>8*i)%0x100^10) for i in range(3)]))"
   ]
  },
  {
   "cell_type": "markdown",
   "metadata": {
    "id": "a2jKy1EeqYcP"
   },
   "source": [
    "#### Text Editor (text_editor.py)"
   ]
  },
  {
   "cell_type": "code",
   "execution_count": null,
   "metadata": {
    "id": "scwilWTJqa8K"
   },
   "outputs": [],
   "source": [
    "import sys\n",
    "\n",
    "print(\"Text Editor, version 1.0\")\n",
    "print(\"Copyright (c) 2020 miniprime1\\n\")\n",
    "\n",
    "print(\"Options\")\n",
    "print(\"1. Write Mode (Creates a file in write mode)\")\n",
    "print(\"2. Read Mode (Open the file in read mode.)\")\n",
    "print(\"3. Append Mode (Create/Open files in append mode)\")\n",
    "print(\"4. Exit\")\n",
    "option = input(\"Your choice: \")\n",
    "\n",
    "if option == \"1\":\n",
    "    path = input(\"\\nEnter save path include file name: \")\n",
    "    f = open(path, 'w')\n",
    "    print(\"\")\n",
    "    print(\"=\" * 50)\n",
    "    print(\"Enter text to write (To exit, type \\\"EXIT\\\"):\")\n",
    "    while True:\n",
    "        before_data = input()\n",
    "        if before_data == 'EXIT': break\n",
    "        data = before_data + \"\\n\"\n",
    "        f.write(data)\n",
    "    print(\"=\" * 50)\n",
    "    f.close\n",
    "\n",
    "elif option == \"2\":\n",
    "    path = input(\"\\nEnter path of file to open: \")\n",
    "    f = open(path, 'r')\n",
    "    print(\"\")\n",
    "    print(\"=\" * 50)\n",
    "    data = f.read()\n",
    "    print(data)\n",
    "    print(\"=\" * 50)\n",
    "    f.close\n",
    "\n",
    "elif option == \"3\":\n",
    "    path = input(\"\\nEnter path of file to open: \")\n",
    "    f = open(path, 'a')\n",
    "    print(\"\")\n",
    "    print(\"=\" * 50)\n",
    "    print(\"Enter text to append (To exit, type \\\"EXIT\\\"):\")\n",
    "    while True:\n",
    "        before_data = input()\n",
    "        if before_data == 'EXIT': break\n",
    "        data = before_data + \"\\n\"\n",
    "        f.write(data)\n",
    "    print(\"=\" * 50)\n",
    "    f.close\n",
    "\n",
    "elif option == \"4\":\n",
    "    sys.exit()\n",
    "\n",
    "else:\n",
    "    print(\"\\nError: invalid choice\")"
   ]
  },
  {
   "cell_type": "markdown",
   "metadata": {
    "id": "4w8KuykPr7w6"
   },
   "source": [
    "#### Up/Down Game (updown_game.py)"
   ]
  },
  {
   "cell_type": "code",
   "execution_count": null,
   "metadata": {
    "id": "jA75SJa_sSxC"
   },
   "outputs": [],
   "source": [
    "import random\n",
    "\n",
    "print(\"Up/Down Game v1.0\")\n",
    "print(\"Copyright (c) 2020 miniprime1\\n\")\n",
    "\n",
    "print(\"Difficult\")\n",
    "print(\"1. Easy (1~10)\")\n",
    "print(\"2. Normal (1~50)\")\n",
    "print(\"3. Hard (1~100)\")\n",
    "print(\"4. Extreme (1~1000)\")\n",
    "print(\"5. Custom (?~?)\")\n",
    "opt = input(\"Your choice: \")\n",
    "\n",
    "if int(opt) == 1: \n",
    "    ans = random.randrange(1, 11)\n",
    "    print(\"\\nDifficult: Easy (1~10)\")\n",
    "elif int(opt) == 2: \n",
    "    ans = random.randrange(1, 51)\n",
    "    print(\"\\nDifficult: Normal (1~50)\")\n",
    "elif int(opt) == 3: \n",
    "    ans = random.randrange(1, 101)\n",
    "    print(\"\\nDifficult: Hard (1~100)\")\n",
    "elif int(opt) == 4: \n",
    "    ans = random.randrange(1, 1001)\n",
    "    print(\"\\nDifficult: Extreme (1~1000)\")\n",
    "elif int(opt) == 5:\n",
    "    x = input(\"\\nEnter 1st input: \")\n",
    "    y = input(\"Enter 2nd input: \")\n",
    "    print(\"\\nDifficult: Custom (\" + x + \"~\" + y + \")\")\n",
    "    ans = random.randrange(int(x), int(y) + 1)\n",
    "else: \n",
    "    ans = random.randrange(1, 1000001)\n",
    "    print(\"\\nDifficult: Error (1~1000000)\")\n",
    "\n",
    "while True:\n",
    "    you = int(input(\"\\nEnter number: \"))\n",
    "    if you > ans: \n",
    "        print(\"Down!\")\n",
    "    if you < ans: \n",
    "        print(\"Up!\")\n",
    "    if you == ans:\n",
    "        print(\"Answer!\")\n",
    "        break"
   ]
  },
  {
   "cell_type": "markdown",
   "metadata": {
    "id": "aGPgjC2r-AVU"
   },
   "source": [
    "#### Hasher (hasher.py)"
   ]
  },
  {
   "cell_type": "code",
   "execution_count": null,
   "metadata": {
    "id": "euYip8-o-JOq"
   },
   "outputs": [],
   "source": [
    "import hashlib\n",
    "\n",
    "print(\"Hasher, version 1.0\")\n",
    "print(\"Copright (c) 2020 miniprime1\\n\")\n",
    "\n",
    "source = input(\"Enter input: \")\n",
    "print(\"\")\n",
    "\n",
    "md5 = hashlib.md5()\n",
    "md5.update(source.encode())\n",
    "print(\"MD5:\", md5.hexdigest())\n",
    "\n",
    "sha1 = hashlib.sha1()\n",
    "sha1.update(source.encode())\n",
    "print(\"SHA1:\", sha1.hexdigest())\n",
    "\n",
    "sha224 = hashlib.sha224()\n",
    "sha224.update(source.encode())\n",
    "print(\"SHA224:\", sha224.hexdigest())\n",
    "\n",
    "sha256 = hashlib.sha256()\n",
    "sha256.update(source.encode())\n",
    "print(\"SHA256:\", sha256.hexdigest())\n",
    "\n",
    "sha384 = hashlib.sha384()\n",
    "sha384.update(source.encode())\n",
    "print(\"SHA384:\", sha384.hexdigest())\n",
    "\n",
    "sha512 = hashlib.sha512()\n",
    "sha512.update(source.encode())\n",
    "print(\"SHA512:\", sha512.hexdigest())"
   ]
  },
  {
   "cell_type": "markdown",
   "metadata": {
    "id": "XtF_F_EO_ALX"
   },
   "source": [
    "#### Mail Client (mail_client.py)"
   ]
  },
  {
   "cell_type": "code",
   "execution_count": null,
   "metadata": {
    "id": "SS4HIexB_DwB"
   },
   "outputs": [],
   "source": [
    "import smtplib, sys, os\n",
    "from email.mime.text import MIMEText\n",
    "from email.mime.multipart import MIMEMultipart\n",
    "\n",
    "print(\"Mail Client v1.0 (Powered by Google SMTP)\")\n",
    "print(\"Copyright (c) 2020 miniprime1. All rights reserved.\")\n",
    "print(\"[Note: Use google account only]\\n\")\n",
    "\n",
    "email = input(\"Enter Your Email Address: \")\n",
    "password = input(\"Enter Your Email Password: \")\n",
    "\n",
    "msg = MIMEMultipart()\n",
    "msg['From'] = email\n",
    "recipient = input(\"Enter Recipient Email: \")\n",
    "msg['To'] = recipient\n",
    "msg['Subject'] = input(\"Enter Email Subject: \")\n",
    "\n",
    "f = open('email.txt', 'w')\n",
    "print(\"\\nWrite body (To exit and send email, type \\\"SEND\\\")\")\n",
    "while True:\n",
    "    before_data = input()\n",
    "    if before_data == 'SEND': break\n",
    "    data = before_data + \"\\n\"\n",
    "    f.write(data)\n",
    "f.close\n",
    "print(\"\")\n",
    "\n",
    "with open('email.txt', \"r\") as f:\n",
    "    message = f.read()\n",
    "\n",
    "msg.attach(MIMEText(message, \"plain\"))\n",
    "\n",
    "with smtplib.SMTP_SSL(\"smtp.gmail.com\", 465) as server:\n",
    "    try:\n",
    "        server.login(email, password)\n",
    "        server.sendmail(email, recipient, msg.as_string())\n",
    "        print(\"Email sent success!\")\n",
    "    except:\n",
    "        print(\"\\nError:\")\n",
    "        print(\"Allow it to run less secure app in \\n“https://www.google.com/settings/security/lesssecureapps”, and try this again\")\n",
    "        sys.exit()\n",
    "\n",
    "os.remove(\"email.txt\")"
   ]
  },
  {
   "cell_type": "markdown",
   "metadata": {
    "id": "sbdT-MfT_fel"
   },
   "source": [
    "#### Rock Paper Scissors (rps.py)"
   ]
  },
  {
   "cell_type": "code",
   "execution_count": null,
   "metadata": {
    "id": "sR_-a4WU_lFP"
   },
   "outputs": [],
   "source": [
    "import random\n",
    "\n",
    "print(\"Rock Paper Scissors v1.0\")\n",
    "print(\"Copyright (c) 2020 miniprime1\")\n",
    "\n",
    "print(\"\\nYour turn!\")\n",
    "try: you = int(input(\"Enter input (1:Rock; 2:Paper; 3:Scissors): \"))\n",
    "except: you = random.randrange(1, 4)\n",
    "\n",
    "print(\"\\nComputer turn!\")\n",
    "com = random.randrange(1, 4)\n",
    "print(\"Enter input (1:Rock; 2:Paper; 3:Scissors):\", com)\n",
    "\n",
    "print(\"\")\n",
    "\n",
    "if you == 1: print(\"Your choice: Rock\")\n",
    "elif you == 2: print(\"Your choice: Paper\")\n",
    "elif you == 3: print(\"Your choice: Scissors\")\n",
    "else: print(\"Error: undefined error occurred\")\n",
    "\n",
    "if com == 1: print(\"Computer choice: Rock\")\n",
    "elif com == 2: print(\"Computer choice: Paper\")\n",
    "elif com == 3: print(\"Computer choice: Scissors\")\n",
    "else: print(\"Error: undefined error occurred\")\n",
    "\n",
    "if com == you: print(\"\\nIt's draw!\")\n",
    "elif com == 1 and you == 2: print(\"\\nYou win!\")\n",
    "elif com == 2 and you == 3: print(\"\\nYou win!\")\n",
    "elif com == 3 and you == 1: print(\"\\nYou win!\")\n",
    "else: print(\"\\nComputer win!\")"
   ]
  },
  {
   "cell_type": "markdown",
   "metadata": {
    "id": "Tv7kPDsCV0u_"
   },
   "source": [
    "#### Weather Live (weather_live.py)"
   ]
  },
  {
   "cell_type": "code",
   "execution_count": null,
   "metadata": {
    "id": "4KuGy-ceV4yH"
   },
   "outputs": [],
   "source": [
    "from urllib import request\n",
    "from bs4 import BeautifulSoup\n",
    "\n",
    "print(\"Weather Live v1.0\")\n",
    "print(\"Copyright (c) 2020 miniprime1\")\n",
    "print(\"[Region: Republic of Korea]\\n\")\n",
    "\n",
    "target = request.urlopen(\"http://www.kma.go.kr/weather/forecast/mid-term-rss3.jsp?stnId=108\")\n",
    "soup = BeautifulSoup(target, \"html.parser\")\n",
    "\n",
    "for location in soup.select(\"location\"):\n",
    "    print(\"도시:\", location.select_one(\"city\").string)\n",
    "    print(\"날씨:\", location.select_one(\"wf\").string)\n",
    "    print(\"최저기온:\", location.select_one(\"tmn\").string)\n",
    "    print(\"최고기온:\", location.select_one(\"tmx\").string)\n",
    "    print()"
   ]
  },
  {
   "cell_type": "markdown",
   "metadata": {
    "id": "wObe3DZKFHFn"
   },
   "source": [
    "#### Pythagorean Triples Generator (ptriples_gen.py)"
   ]
  },
  {
   "cell_type": "code",
   "execution_count": null,
   "metadata": {
    "id": "6wk1LzRyFLU2"
   },
   "outputs": [],
   "source": [
    "print(\"Pythagorean Triples Generator v1.0\")\n",
    "print(\"Copyright (C) 2020 miniprime1. All rights reserved.\")\n",
    "print(\"[Form: (x, y, z); Algorithm: (x^2+y^2=z^2)]\\n\")\n",
    "\n",
    "range1 = input(\"Enter Range of 'x': \")\n",
    "range2 = input(\"Enter Range of 'y': \")\n",
    "range3 = input(\"Enter Range of 'z': \")\n",
    "\n",
    "total = 0\n",
    "true = 0\n",
    "false = 0\n",
    "\n",
    "f = open(\"pythagorean_triples.txt\", 'w')\n",
    "print(\"\")\n",
    "\n",
    "for i in range(1, int(range1)+1):\n",
    "    for j in range(1, int(range2)+1):\n",
    "        for k in range(1, int(range3)+1):\n",
    "            total = total + 1\n",
    "            if i**2 + j**2 == k**2:\n",
    "                print(f\"({i}, {j}, {k})\")\n",
    "                f.write(f\"({i}, {j}, {k})\\n\")\n",
    "                true = true + 1\n",
    "            else:\n",
    "                false = false + 1\n",
    "\n",
    "print(\"\")\n",
    "print(f\"true={true}, false={false}, total={total}\")\n",
    "print(f\"Total Number of Possible Combinations: {total}\")\n",
    "print(f\"Number of Generated Pythagorean Triples: {true}  \\n\")\n",
    "print(\"Result: 'pythagorean_triples.txt'\")\n",
    "f.close()"
   ]
  },
  {
   "cell_type": "markdown",
   "metadata": {
    "id": "Jzvc_6yiBOqZ"
   },
   "source": [
    "#### Stock (stock.py)"
   ]
  },
  {
   "cell_type": "code",
   "execution_count": null,
   "metadata": {
    "id": "ajymQsA-BRNu"
   },
   "outputs": [],
   "source": [
    "!pip install yahoo-fin\n",
    "!pip install requests"
   ]
  },
  {
   "cell_type": "code",
   "execution_count": null,
   "metadata": {
    "id": "Dt0p1JScBf9J"
   },
   "outputs": [],
   "source": [
    "from yahoo_fin.stock_info import *\n",
    "import matplotlib.pyplot as plt\n",
    "import json, requests, pandas\n",
    "\n",
    "print(\"Stock, version 1.0\")\n",
    "print(\"Copyright (C) 2020 miniprime1\")\n",
    "print(\"[Powered by Yahoo Finance]\\n\")\n",
    "\n",
    "symbol = input(\"Enter Stock Symbol: \")\n",
    "print(\"\")\n",
    "try: \n",
    "    quote_table = json.loads(json.dumps(get_quote_table(symbol)))\n",
    "    print(\"Symbol:\", symbol.upper())\n",
    "    for name in quote_table: print(f\"{name}: {quote_table[name]}\")\n",
    "    # Time Piece Code 1\n",
    "except Exception as e: \n",
    "    print(f\"Error: {e}!\")\n",
    "\n",
    "# Test Code 1\n",
    "# from yahoo_fin.stock_info import *\n",
    "# import json, requests\n",
    "# url = \"http://d.yimg.com/autoc.finance.yahoo.com/autoc?query={}&region=1&lang=en\".format(symbol)\n",
    "# result = requests.get(url).json()\n",
    "# for x in result['ResultSet']['Result']: \n",
    "#   if x['symbol'] == 'aapl': \n",
    "#     company = x['name']\n",
    "# quote_table = json.loads(json.dumps(get_quote_table('aapl')))\n",
    "# for name in quote_table: print(f\"{name}: {quote_table[name]}\")\n",
    "\n",
    "# Time Piece Code 1\n",
    "# apikey = '0e1a0c0ce8b16e6007db23008a76dafb'\n",
    "# price_list = []\n",
    "# history = requests.get(f\"https://financialmodelingprep.com/api/v3/historical-price-full/{symbol}?serietype=line&apikey={apikey}\").json()\n",
    "# history = history[\"historical\"]\n",
    "# df = pandas.DataFrame.from_dict(history)\n",
    "# df = df.rename({'close': symbol}, axis=1)\n",
    "# price_list.append(df)\n",
    "# dfs = [d.set_index('date') for d in price_list]\n",
    "# concat = pandas.concat(dfs,axis=1)\n",
    "# concat = concat/concat.iloc[0]\n",
    "# concat.plot()\n",
    "# plt.show()"
   ]
  },
  {
   "cell_type": "markdown",
   "metadata": {
    "id": "KHx7azq4cBiV"
   },
   "source": [
    "#### Morse Code Translator (morse_code_translator.py)"
   ]
  },
  {
   "cell_type": "code",
   "execution_count": null,
   "metadata": {
    "id": "SAsy0CLUcHTG"
   },
   "outputs": [],
   "source": [
    "#  __  __                      ____          _      \n",
    "# |  \\/  | ___  _ __ ___  ___ / ___|___   __| | ___ \n",
    "# | |\\/| |/ _ \\| '__/ __|/ _ \\ |   / _ \\ / _` |/ _ \\\n",
    "# | |  | | (_) | |  \\__ \\  __/ |__| (_) | (_| |  __/\n",
    "# |_|  |_|\\___/|_|  |___/\\___|\\____\\___/ \\__,_|\\___|\n",
    "\n",
    "ENCRYPT = { 'A':'.-', 'B':'-...', \n",
    "    'C':'-.-.', 'D':'-..', 'E':'.', \n",
    "    'F':'..-.', 'G':'--.', 'H':'....', \n",
    "    'I':'..', 'J':'.---', 'K':'-.-', \n",
    "    'L':'.-..', 'M':'--', 'N':'-.', \n",
    "    'O':'---', 'P':'.--.', 'Q':'--.-', \n",
    "    'R':'.-.', 'S':'...', 'T':'-', \n",
    "    'U':'..-', 'V':'...-', 'W':'.--', \n",
    "    'X':'-..-', 'Y':'-.--', 'Z':'--..', \n",
    "    '1':'.----', '2':'..---', '3':'...--', \n",
    "    '4':'....-', '5':'.....', '6':'-....', \n",
    "    '7':'--...', '8':'---..', '9':'----.', \n",
    "    '0':'-----', ',':'--..--', '.':'.-.-.-', \n",
    "    '?':'..--..', '/':'-..-.', '-':'-....-', \n",
    "    '(':'-.--.', ')':'-.--.-'\n",
    "}\n",
    "\n",
    "DECRYPT = { '.-':'A', '-...':'B',\n",
    "    '-.-.':'C', '-..':'D', '.':'E',\n",
    "    '..-':'F', '--':'G', '....':'H',\n",
    "    '..':'I', '.---':'J', '-.-':'K', \n",
    "    '.-..':'L', '--':'M', '-.':'N', \n",
    "    '---':'O', '.--.':'P', '--.-':'Q', \n",
    "    '.-.':'R', '...':'S', '-':'T', \n",
    "    '..-':'U', '...-':'V', '.--':'W', \n",
    "    '-..-':'X', '-.--':'Y', '--..':'Z', \n",
    "    '.----':'1', '..---':'2', '...--':'3', \n",
    "    '....-':'4', '.....':'5', '-....':'6', \n",
    "    '--...':'7', '---..':'8', '----.':'9', \n",
    "    '-----':'0', '--..--':',', '.-.-.-':'.', \n",
    "    '..--..':'?', '-..-.':'/', '-....-':'-', \n",
    "    '-.--.':'(', '-.--.-':')'\n",
    "}\n",
    "\n",
    "def decrypt(msg):\n",
    "    upper = msg.upper()\n",
    "    scentense = upper.split('  ')\n",
    "    for i in scentense:\n",
    "        words = i.split(' ')\n",
    "        for word in words: print(DECRYPT[word], end='')\n",
    "        print(' ', end='')\n",
    "    print()\n",
    "\n",
    "def encrypt(msg):\n",
    "    scentense = msg.split(' ')\n",
    "    for word in scentense:\n",
    "        for char in word: print(ENCRYPT[char], end=' ')\n",
    "        print(' ', end='')\n",
    "    print()\n",
    "\n",
    "print(\"International Morse Code Translator v1.0\")\n",
    "print(\"Copyright (c) 2020 miniprime1. All rights reserved.\")\n",
    "print(\"[Dot: '.'; Dash: '-'; Seperate: ' ', Space: '  ']\\n\")\n",
    "\n",
    "print(\"Options\")\n",
    "print(\"1. Decrypt Morse Code to Text\")\n",
    "print(\"2. Encrypt Text to Morse Code\")\n",
    "print(\"3. Exit\")\n",
    "choice = input(\"Enter choice: \")\n",
    "\n",
    "print(\"\\n\", end=\"\")\n",
    "\n",
    "if choice == '1':\n",
    "    while True:\n",
    "        i = input(\"\\nEnter Input: \")\n",
    "        if i == 'EXIT': break\n",
    "        decrypt(i)\n",
    "\n",
    "elif choice == '2': \n",
    "    while True: \n",
    "        i = input(\"\\nEnter Input: \")\n",
    "        if i == 'EXIT': break\n",
    "        encrypt(i)\n",
    "\n",
    "elif choice == '3':\n",
    "    import sys\n",
    "    sys.exit()\n",
    "\n",
    "else:\n",
    "    print(\"\\nError: invalid choice\")"
   ]
  },
  {
   "cell_type": "markdown",
   "metadata": {
    "id": "MVuKa9373clK"
   },
   "source": [
    "#### Equation Grapher (equation_grapher.py)"
   ]
  },
  {
   "cell_type": "code",
   "execution_count": null,
   "metadata": {
    "id": "zbBkEjoB3jF8"
   },
   "outputs": [],
   "source": [
    "from sympy import symbols\n",
    "from sympy.plotting import plot\n",
    "\n",
    "x = symbols('x')\n",
    "y = symbols('y')\n",
    "\n",
    "print(\"Equation Grapher v1.0\")\n",
    "print(\"Copyright (c) 2020 miniprime1\")\n",
    "print(\"[Variables: (x or y)]\\n\")\n",
    "\n",
    "eq = input('Enter Expression: ')\n",
    "print()\n",
    "\n",
    "try: \n",
    "    plot(eq)\n",
    "except Exception as e: \n",
    "    print(\"Error:\", str(e))"
   ]
  },
  {
   "cell_type": "markdown",
   "metadata": {
    "id": "DsgpqBz4otiY"
   },
   "source": [
    "#### Tic Tac Toe (tictactoe.py)"
   ]
  },
  {
   "cell_type": "code",
   "execution_count": null,
   "metadata": {
    "id": "hVtIutAjoyQI"
   },
   "outputs": [],
   "source": [
    "print(\"Tic Tac Toe v1.0\")\n",
    "print(\"Copyright (c) 2020 miniprime1\")\n",
    "\n",
    "items = [[\"1\",\"2\",\"3\"],[\"4\",\"5\",\"6\"],[\"7\",\"8\",\"9\"]]\n",
    "\n",
    "def validate(x):\n",
    "    occupied = True\n",
    "    for item in items:\n",
    "        for i in item:\n",
    "            if i == x:\n",
    "                occupied = False\n",
    "    return occupied\n",
    "\n",
    "def takeseat(x, value):\n",
    "    for idx, item in enumerate(items):\n",
    "        for idy,i in enumerate(item):\n",
    "            if i == x:\n",
    "               items[idx][idy] = value               \n",
    "\n",
    "def win(mark):\n",
    "    return (items[0][0]+items[0][1]+items[0][2] == mark *3) or \\\n",
    "    (items[1][0]+items[1][1]+items[1][2] == mark *3) or \\\n",
    "    (items[2][0]+items[2][1]+items[2][2] == mark *3) or \\\n",
    "    (items[0][0]+items[1][0]+items[2][0] == mark *3) or \\\n",
    "    (items[0][1]+items[1][1]+items[2][1] == mark *3) or \\\n",
    "    (items[0][2]+items[1][2]+items[2][2] == mark *3) or \\\n",
    "    (items[0][0]+items[1][1]+items[2][2] == mark *3) or \\\n",
    "    (items[2][0]+items[1][1]+items[0][2] == mark *3)\n",
    "\n",
    "\n",
    "turnkey = 0\n",
    "\n",
    "while True:\n",
    "    if win(\"X\"):\n",
    "        print(\"\\n-------------\")\n",
    "        for item in items:\n",
    "            for i in item: print(\"|\", i, end=\" \")\n",
    "            print(\"|\\n-------------\")\n",
    "        print(\"X is winner!\")\n",
    "        break\n",
    "    elif win(\"O\"):\n",
    "        print(\"\\n-------------\")\n",
    "        for item in items:\n",
    "            for i in item: print(\"|\", i, end=\" \")\n",
    "            print(\"|\\n-------------\")\n",
    "        print(\"O is winner!\")\n",
    "        break\n",
    "\n",
    "    if turnkey%2: value = \"O\"\n",
    "    else: value = \"X\"\n",
    "\n",
    "    print(\"\\n-------------\")\n",
    "    for item in items:\n",
    "        for i in item:\n",
    "            print(\"|\", i, end=\" \")\n",
    "        print(\"|\\n-------------\")\n",
    "    select = input(\"Please select number: \")\n",
    "\n",
    "    if validate(select):\n",
    "        print(\"Error: Invalid Number!\")\n",
    "        takeseat(select, value)\n",
    "        turnkey = turnkey + 1\n",
    "    else:\n",
    "        takeseat(select, value)\n",
    "        turnkey = turnkey + 1"
   ]
  },
  {
   "cell_type": "markdown",
   "metadata": {
    "id": "64fdgS9bOc61"
   },
   "source": [
    "#### COVID-19 Dashboard (covid-19.py)"
   ]
  },
  {
   "cell_type": "code",
   "execution_count": null,
   "metadata": {
    "id": "JlWQMrErI7kS"
   },
   "outputs": [],
   "source": [
    "!pip install beautifulsoup4\n",
    "!pip install pydantic"
   ]
  },
  {
   "cell_type": "code",
   "execution_count": null,
   "metadata": {
    "id": "xyv1zLO7OlxQ"
   },
   "outputs": [],
   "source": [
    "# Name: COVID-19 Dashboard v1.0       \n",
    "# Referenc: bit.ly/2Oi3Urq    \n",
    "# License: bit.ly/3b3qkFl       \n",
    "# Language: Python 3.7.8        \n",
    "# OS: Windows, MacOS, Linux \n",
    "\n",
    "import requests\n",
    "from bs4 import BeautifulSoup\n",
    "from pydantic import *\n",
    "from decimal import *\n",
    "\n",
    "WORLDOMETERS = \"worldometers\"\n",
    "SOURCE = WORLDOMETERS\n",
    "URL = \"https://www.worldometers.info/coronavirus/\"\n",
    "\n",
    "def install_requirements():\n",
    "    import sys, os\n",
    "    for i in [\"pydantic\", \"requests\", \"beautifulsoup4\"]:\n",
    "        os.system(f\"{sys.executable} -m pip install {i}\")\n",
    "\n",
    "class CovidModel(BaseModel):\n",
    "    country: str = Field(..., alias=\"Country,Other\")\n",
    "    total_cases: int = Field(0, alias=\"TotalCases\")\n",
    "    confirmed: int = Field(0, alias=\"TotalCases\")\n",
    "    new_cases: int = Field(0, alias=\"NewCases\")\n",
    "    deaths: int = Field(0, alias=\"TotalDeaths\")\n",
    "    new_deaths: int = Field(0, alias=\"NewDeaths\")\n",
    "    recovered: int = Field(0, alias=\"TotalRecovered\")\n",
    "    active: int = Field(0, alias=\"ActiveCases\")\n",
    "    active_cases: int = Field(0, alias=\"ActiveCases\")\n",
    "    critical: int = Field(0, alias=\"Serious,Critical\")\n",
    "    total_tests: int = Field(0, alias=\"TotalTests\")\n",
    "    total_tests_per_million: Decimal = Field(Decimal(0), alias=\"Tests/1M pop\")\n",
    "    total_cases_per_million: Decimal = Field(Decimal(0), alias=\"TotCases/1M pop\")\n",
    "    total_deaths_per_million: Decimal = Field(Decimal(0), alias=\"Deaths/1M pop\")\n",
    "    population: Decimal = Field(Decimal(0), alias=\"Population\")\n",
    "\n",
    "class Covid:\n",
    "    def __init__(self):\n",
    "        self.__url = URL\n",
    "        self.__data = {}\n",
    "        self.__fetch()\n",
    "        self.__set_data()\n",
    "        self.source = SOURCE\n",
    "\n",
    "    def __fetch(self):\n",
    "        response = requests.get(self.__url)\n",
    "        soup = BeautifulSoup(response.text, \"html.parser\")\n",
    "        table = soup.find(\"table\", attrs={\"class\": \"main_table_countries\"})\n",
    "        headers = table.find_all(\"th\")\n",
    "        self.__headers = [header.text.replace(\"\\xa0\", \"\") for header in headers]\n",
    "        self.__rows = table.tbody.find_all(\"tr\")\n",
    "        self.__total_cases = soup.find_all(\"div\", attrs={\"class\": \"maincounter-number\"})\n",
    "\n",
    "    def __set_data(self):\n",
    "        countries = ([attr.text.strip() for attr in row if attr != \"\\n\"] for row in self.__rows)\n",
    "        self.__data = {country[1].lower(): country for country in countries}\n",
    "\n",
    "    def __format(self, _list: list) -> list:\n",
    "        _list = [val.strip().replace(\",\", \"\") for val in _list]\n",
    "        return [val if val and val != \"N/A\" else 0 for val in _list]\n",
    "\n",
    "    def get_data(self) -> list:\n",
    "        return [CovidModel(**dict(zip(self.__headers, self.__format(val)))).dict() for val in self.__data.values()]\n",
    "\n",
    "    def get_status_by_country_name(self, country_name: str) -> dict:\n",
    "        try: country_data = dict(zip(self.__headers, self.__format(self.__data[country_name.lower()]),))\n",
    "        except KeyError: raise ValueError( f\"There is no country called '{country_name}', to check available country names use `list_countries()`\")\n",
    "        return CovidModel(**country_data).dict()\n",
    "\n",
    "    def list_countries(self) -> list:\n",
    "        return list(self.__data.keys())\n",
    "\n",
    "    @staticmethod\n",
    "    def __to_num(string: str) -> int:\n",
    "        return int(string.strip().replace(\",\", \"\"))\n",
    "\n",
    "    def get_total_confirmed_cases(self) -> int:\n",
    "        return self.__to_num(self.__total_cases[0].span.text)\n",
    "\n",
    "    def get_total_deaths(self) -> int:\n",
    "        return self.__to_num(self.__total_cases[1].span.text)\n",
    "\n",
    "    def get_total_recovered(self) -> int:\n",
    "        return self.__to_num(self.__total_cases[2].span.text)\n",
    "\n",
    "    def get_total_active_cases(self) -> int:\n",
    "        confirmed = self.get_total_confirmed_cases()\n",
    "        deaths = self.get_total_deaths()\n",
    "        recovered = self.get_total_recovered()\n",
    "        return confirmed - (recovered + deaths)\n",
    "\n",
    "if __name__ == '__main__':\n",
    "    confirmed = Covid().get_total_confirmed_cases()\n",
    "    deaths = Covid().get_total_deaths()\n",
    "    recovered = Covid().get_total_recovered()\n",
    "\n",
    "    print(\"COVID-19 Dashboard v1.0\")\n",
    "    print(\"Copyright (c) 2020 miniprime1\\n\")\n",
    "\n",
    "    print(\"[Worldwide]\")\n",
    "    print(\"Confirmed:\", confirmed)\n",
    "    print(\"Deaths:\", deaths)\n",
    "    print(\"Recovered:\", recovered)"
   ]
  },
  {
   "cell_type": "markdown",
   "metadata": {
    "id": "BIgGeqi5zjzW"
   },
   "source": [
    "#### File Downloader (file_downloader.py)"
   ]
  },
  {
   "cell_type": "code",
   "execution_count": null,
   "metadata": {
    "id": "2zwTlhs-znnR"
   },
   "outputs": [],
   "source": [
    "import urllib.request\n",
    "\n",
    "print(\"File Downloader v1.0\")\n",
    "print(\"Copyright (c) 2020 miniprime1\\n\")\n",
    "\n",
    "url = input(\"Enter URL: \")\n",
    "path = input(\"Enter Save Path: \")\n",
    "print('\\nDownloading...')\n",
    "\n",
    "try:\n",
    "  urllib.request.urlretrieve(url, path)\n",
    "  print(\"Done!\")\n",
    "  print(\"\\nile downloaded succesfully at\", path)\n",
    "except Exception as e:\n",
    "  print(\"Error!\")\n",
    "  print(str(e))\n",
    "\n",
    "# For Test\n",
    "# URL: http://i3.ytimg.com/vi/J---aiyznGQ/mqdefault.jpg\n",
    "# Path: /cat.png"
   ]
  },
  {
   "cell_type": "markdown",
   "metadata": {
    "id": "CQ2Dks097Hl9"
   },
   "source": [
    "#### Youtube Downloader (youtube_downloader.py)"
   ]
  },
  {
   "cell_type": "code",
   "execution_count": null,
   "metadata": {
    "id": "Itb1Vmhk7VAs"
   },
   "outputs": [],
   "source": [
    "!pip install pytube"
   ]
  },
  {
   "cell_type": "code",
   "execution_count": null,
   "metadata": {
    "id": "vsNzLUgr7XAX"
   },
   "outputs": [],
   "source": [
    "import pytube\n",
    "\n",
    "print(\"YouTube Downloader v1.0\")\n",
    "print(\"Copyright (c) 2020 miniprime1\\n\")\n",
    "\n",
    "url = input(\"Enter YouTube URL: \")\n",
    "path = input(\"Enter Save Path: \" )\n",
    "\n",
    "try:\n",
    "    print(\"\\nDownloading...\")\n",
    "    youtube = pytube.YouTube(url)\n",
    "    video = youtube.streams.get_highest_resolution()\n",
    "    video.download(path)\n",
    "    print(\"Done!\")\n",
    "except Exception as err:\n",
    "    print(\"Error:\", str(err))"
   ]
  },
  {
   "cell_type": "markdown",
   "metadata": {
    "id": "rHT-xEJcBUhG"
   },
   "source": [
    "#### Excel Editor (excel_editor.py)"
   ]
  },
  {
   "cell_type": "code",
   "execution_count": null,
   "metadata": {
    "id": "HUszVvKQBZ9T"
   },
   "outputs": [],
   "source": [
    "from openpyxl import *\n",
    "from pandas import *\n",
    "from tabulate import *\n",
    "\n",
    "print(\"Excel Editor v1.0\")\n",
    "print(\"Copyright (c) 2020 miniprime1\")\n",
    "print(\"[Powered by OpenPyXL]\\n\")\n",
    "\n",
    "print(\"Options\")\n",
    "print(\"1. Write Mode (w)\")\n",
    "print(\"2. Read Mode (r)\")\n",
    "print(\"3. Exit (x)\")\n",
    "cc = input(\"Enter choice: \")\n",
    "\n",
    "if cc == \"1\":\n",
    "    path = input(\"\\nEnter Save Path: \")\n",
    "    wb = Workbook()\n",
    "    ws = wb.active\n",
    "    print(\"\\n[Exit: enter 'EXIT' to exit]\")\n",
    "    print(\"[Cell: (Column)(Row)\")\n",
    "    while True:\n",
    "        cell = input(\"\\nEnter Cell: \")\n",
    "        if cell==\"EXIT\": break\n",
    "        value = input(\"Enter Value: \")\n",
    "        if value==\"EXIT\": break\n",
    "        ws[cell] = value\n",
    "    wb.save(path)\n",
    "\n",
    "elif cc == \"2\":\n",
    "    path = input(\"\\nEnter File Path: \")\n",
    "    sheet = input(\"Enter Sheet Name: \")\n",
    "    wb = load_workbook(path, data_only=True)\n",
    "    ws = wb[sheet]\n",
    "    df = DataFrame(ws.values)\n",
    "    print(\"\\n\", end='')\n",
    "    print(tabulate(ws.values, tablefmt=\"grid\"))\n",
    "\n",
    "elif cc == \"3\":\n",
    "    exit()"
   ]
  },
  {
   "cell_type": "markdown",
   "metadata": {
    "id": "jbTmd1QsjBGg"
   },
   "source": [
    "#### Shell (shell-1.0.py)"
   ]
  },
  {
   "cell_type": "code",
   "execution_count": null,
   "metadata": {
    "id": "3XXhcBCGjFIi"
   },
   "outputs": [],
   "source": [
    "import os\n",
    "import shutil\n",
    "import sys\n",
    "\n",
    "name = \"shell\"\n",
    "version = \"1.0\"\n",
    "command = [\"clear\", \"pwd\", \"cd\", \"mkdir\", \"ls\", \"rm\", \"touch\", \"cat\", \"cp\", \"mv\", \"echo\", \"license\", \"ver\", \"help\"]\n",
    "\n",
    "license = \"\"\"\n",
    "MIT License\n",
    "\n",
    "Copyright (c) 2021 miniprime1 [Kyumin]\n",
    "\n",
    "Permission is hereby granted, free of charge, to any person obtaining a copy\n",
    "of this software and associated documentation files (the \"Software\"), to deal\n",
    "in the Software without restriction, including without limitation the rights\n",
    "to use, copy, modify, merge, publish, distribute, sublicense, and/or sell\n",
    "copies of the Software, and to permit persons to whom the Software is\n",
    "furnished to do so, subject to the following conditions:\n",
    "\n",
    "The above copyright notice and this permission notice shall be included in all\n",
    "copies or substantial portions of the Software.\n",
    "\n",
    "THE SOFTWARE IS PROVIDED \"AS IS\", WITHOUT WARRANTY OF ANY KIND, EXPRESS OR\n",
    "IMPLIED, INCLUDING BUT NOT LIMITED TO THE WARRANTIES OF MERCHANTABILITY,\n",
    "FITNESS FOR A PARTICULAR PURPOSE AND NONINFRINGEMENT. IN NO EVENT SHALL THE\n",
    "AUTHORS OR COPYRIGHT HOLDERS BE LIABLE FOR ANY CLAIM, DAMAGES OR OTHER\n",
    "LIABILITY, WHETHER IN AN ACTION OF CONTRACT, TORT OR OTHERWISE, ARISING FROM,\n",
    "OUT OF OR IN CONNECTION WITH THE SOFTWARE OR THE USE OR OTHER DEALINGS IN THE\n",
    "SOFTWARE. \n",
    "\"\"\"\n",
    "\n",
    "class shell:\n",
    "    def ver():\n",
    "        try:\n",
    "            print(\"{version}\")\n",
    "        except Exception as err:\n",
    "            print(\"Error:\", str(err))\n",
    "    \n",
    "    def help():\n",
    "        try:\n",
    "            for i in command:\n",
    "                print(i)\n",
    "        except Exception as err:\n",
    "            print(\"Error:\", str(err))\n",
    "\n",
    "    def clear():\n",
    "        try:\n",
    "            print('\\x1bc')\n",
    "        except Exception as err:\n",
    "            print(\"Error:\", str(err))\n",
    "\n",
    "    def license():\n",
    "        try:\n",
    "            print(license)\n",
    "        except Exception as err:\n",
    "            print(\"Error:\", str(err))\n",
    "\n",
    "    def pwd():\n",
    "        try:\n",
    "            print(os.getcwd())\n",
    "        except Exception as err:\n",
    "            print(\"Error:\", str(err))\n",
    "    \n",
    "    def exit():\n",
    "        try:\n",
    "            sys.exit()\n",
    "        except Exception as err:\n",
    "            print(\"Error:\", str(err))\n",
    "\n",
    "    def cd(path): \n",
    "        try:\n",
    "            os.chdir(path)\n",
    "        except Exception as err:\n",
    "            print(\"Error:\", str(err))\n",
    "\n",
    "    def mkdir(path):\n",
    "        try: \n",
    "            os.mkdir(path)\n",
    "        except Exception as err:\n",
    "            print(\"Error:\", str(err))\n",
    "        \n",
    "    def ls(): \n",
    "        try:\n",
    "            tmp = os.listdir()\n",
    "            for i in tmp: print(i)\n",
    "        except Exception as err:\n",
    "            print(\"Error:\", str(err))\n",
    "\n",
    "    def rm(path):\n",
    "        try:\n",
    "            os.remove(path)\n",
    "        except Exception as err:\n",
    "            print(\"Error:\", str(err))\n",
    "\n",
    "    def touch(path):\n",
    "        try:\n",
    "            f = open(path, \"ab\")\n",
    "            f.close()\n",
    "        except Exception as err:\n",
    "            print(\"Error:\", str(err))\n",
    "    \n",
    "    def cat(path):\n",
    "        try:\n",
    "            f = open(path, 'r')\n",
    "            print(f.read())\n",
    "            f.close()\n",
    "        except Exception as err:\n",
    "            print(\"Error:\", str(err))\n",
    "    \n",
    "    def cp(path1, path2):\n",
    "        try:\n",
    "            shutil.copy2(path1, path2)\n",
    "        except Exception as err:\n",
    "            print(\"Error:\", str(err))\n",
    "    \n",
    "    def mv(path1, path2):\n",
    "        try:\n",
    "            shutil.move(path1, path2)\n",
    "        except Exception as err:\n",
    "            print(\"Error:\", str(err))\n",
    "\n",
    "    def echo(*text):\n",
    "        try:\n",
    "            txt = \"\"\n",
    "            for i in text: \n",
    "                txt += i\n",
    "                txt += \" \"\n",
    "            print(txt)\n",
    "        except Exception as err:\n",
    "            print(\"Error:\", str(err))\n",
    "\n",
    "def execute(cmd):\n",
    "    p = cmd.split(\" \")\n",
    "    l = len(p)\n",
    "    if l==0:\n",
    "        pass\n",
    "    elif l==1: \n",
    "        exec(f'shell.{p[0]}()')\n",
    "    elif l==2: \n",
    "        exec(f'shell.{p[0]}(\"{p[1]}\")')\n",
    "    elif l==3:\n",
    "        exec(f'shell.{p[0]}(\"{p[1]}\", \"{p[2]}\")')\n",
    "    else:\n",
    "        tc = f\"shell.{p[0]}(\"\n",
    "        for i in range(1, l+1):\n",
    "            if i==l:\n",
    "                tp = f'\"{p[i]}\"'\n",
    "                tc += tp\n",
    "            else:\n",
    "                tp = f'\"{p[i]}\", '\n",
    "                tc += tp\n",
    "        tc += \")\"\n",
    "        exec(tc)\n",
    "\n",
    "while True:\n",
    "    try:\n",
    "        cmd = input(f\"{name}-{version}$ \")\n",
    "        execute(cmd)\n",
    "    except KeyboardInterrupt:\n",
    "        sys.exit()\n",
    "    except Exception as err:\n",
    "        print(\"Error:\", str(err))"
   ]
  },
  {
   "cell_type": "markdown",
   "metadata": {
    "id": "gvy2sc5i1CYA"
   },
   "source": [
    "#### Text2Speech (text2speech.py)"
   ]
  },
  {
   "cell_type": "code",
   "execution_count": null,
   "metadata": {
    "id": "dsEtnOhM1TVL"
   },
   "outputs": [],
   "source": [
    "!pip install gtts"
   ]
  },
  {
   "cell_type": "code",
   "execution_count": null,
   "metadata": {
    "id": "lOWeVYxq1Fx2"
   },
   "outputs": [],
   "source": [
    "from gtts import gTTS\n",
    "\n",
    "print(\"Text2Speech v1.0 (TTS)\")\n",
    "print(\"Copyright (c) 2021 miniprime1\")\n",
    "print(\"[Powered by gTTS]\\n\")\n",
    "\n",
    "path = input(\"Enter Save Path: \")\n",
    "text = input(\"Enter Text: \")\n",
    "lang = input(\"Enter Language: \")\n",
    "\n",
    "try:\n",
    "    tts = gTTS(text, lang=lang)\n",
    "    tts.save(path)\n",
    "    print(\"\\nDone!\")\n",
    "except Exception as err:\n",
    "    print(\"\\nError:\", str(err))\n",
    "\n",
    "# TestCode\n",
    "# from gtts import gTTS\n",
    "# tts = gTTS(\"안녕하세요\", lang=\"ko\")\n",
    "# tts.save(\"hi_kor.mp3\")\n",
    "\n",
    "# Note\n",
    "# Language must be Country code\n",
    "# Ex: english=en; korean=ko;"
   ]
  },
  {
   "cell_type": "markdown",
   "metadata": {
    "id": "hFur7PI0B8eD"
   },
   "source": [
    "#### System Information (systeminfo.py)"
   ]
  },
  {
   "cell_type": "code",
   "execution_count": null,
   "metadata": {
    "id": "UWmjPfy_B_kN"
   },
   "outputs": [],
   "source": [
    "import platform, socket, psutil, time, getpass, math\n",
    "\n",
    "systeminfo = {\n",
    "    'System': str(platform.system() + ' ' + platform.release() + ' ' + platform.machine()),\n",
    "    'Hostname': socket.gethostname(),\n",
    "    \"Uptime\": str(str(math.floor((time.time()-psutil.boot_time())/(24*60*60))) + \" days, \" + time.strftime(\"%H hours, %M mins\", time.gmtime((time.time()-psutil.boot_time())%(24*60*60)))),\n",
    "    \"Kernel\": platform.release(),\n",
    "    'Version': platform.version(),\n",
    "    'Machine': platform.machine(),\n",
    "    'CPU': platform.processor(),\n",
    "    'Memory': str(round(psutil.virtual_memory().total / (2**20)))+\"MB\"\n",
    "}\n",
    "\n",
    "print(f\"{getpass.getuser()}@{socket.gethostname()}\")\n",
    "print(\"-\" * len(f\"{getpass.getuser()}@{socket.gethostname()}\"))\n",
    "for i in systeminfo: print(f\"{i}: {systeminfo[i]}\")\n"
   ]
  },
  {
   "cell_type": "markdown",
   "metadata": {
    "id": "oXDnSWm_rYAD"
   },
   "source": [
    "## Data Science Python Files"
   ]
  },
  {
   "cell_type": "markdown",
   "metadata": {
    "id": "nXxDBiMtBu7G"
   },
   "source": [
    "#### TensorFlow Hello World (hello_world_tensorflow.py)"
   ]
  },
  {
   "cell_type": "code",
   "execution_count": null,
   "metadata": {
    "id": "AAHaGVklCbB6"
   },
   "outputs": [],
   "source": [
    "import tensorflow.compat.v1 as tf\n",
    "tf.disable_v2_behavior()\n",
    "hello = tf.constant('Hello, World!')\n",
    "sess = tf.Session()\n",
    "print(sess.run(hello))"
   ]
  },
  {
   "cell_type": "markdown",
   "metadata": {
    "id": "urzoBTOiE0Cv"
   },
   "source": [
    "#### TensorFlow Calculator (calculator_tensorflow.py)"
   ]
  },
  {
   "cell_type": "code",
   "execution_count": null,
   "metadata": {
    "id": "b3DLKAEqE4Zv"
   },
   "outputs": [],
   "source": [
    "import tensorflow.compat.v1 as tf\n",
    "# tf.disable_v2_behavior()\n",
    "\n",
    "a = tf.placeholder(\"float\")\n",
    "b = tf.placeholder(\"float\")\n",
    "\n",
    "add = tf.add(a, b)\n",
    "sub = tf.subtract(a, b)\n",
    "mul = tf.multiply(a, b)\n",
    "div = tf.div(a, b)\n",
    "sess = tf.Session()\n",
    "\n",
    "print(\"Calculator v1.0\")\n",
    "print(\"[Powered by TensorFlow]\\n\")\n",
    "\n",
    "print(\"Options\")\n",
    "print(\"1. Addition\")\n",
    "print(\"2. Subtraction\")\n",
    "print(\"3. Multiplication\")\n",
    "print(\"4. Division\")\n",
    "choice = input(\"Enter choice: \")\n",
    " \n",
    "print()\n",
    "if choice == \"1\":\n",
    "    x = float(input(\"Enter 1st input: \"))\n",
    "    y = float(input(\"Enter 2nd input: \"))\n",
    "    print(\"\\nResult\")\n",
    "    result = sess.run(add, feed_dict={a: x, b: y})\n",
    "    print(x, \"+\", y, \"=\", result)\n",
    "\n",
    "elif choice == \"2\":\n",
    "    x = float(input(\"Enter 1st input: \"))\n",
    "    y = float(input(\"Enter 2nd input: \"))\n",
    "    print(\"\\nResult\")\n",
    "    result = sess.run(sub, feed_dict={a: x, b: y})\n",
    "    print(x, \"-\", y, \"=\", result)\n",
    "\n",
    "elif choice == \"3\":\n",
    "    x = float(input(\"Enter 1st input: \"))\n",
    "    y = float(input(\"Enter 2nd input: \"))\n",
    "    print(\"\\nResult\")\n",
    "    result = sess.run(mul, feed_dict={a: x, b: y})\n",
    "    print(x, \"*\", y, \"=\", result)\n",
    "\n",
    "elif choice == \"4\":\n",
    "    x = float(input(\"Enter 1st input: \"))\n",
    "    y = float(input(\"Enter 2nd input: \"))\n",
    "    print(\"\\nResult\")\n",
    "    result = sess.run(div, feed_dict={a: x, b: y})\n",
    "    print(x, \"/\", y, \"=\", result)\n",
    "    \n",
    "else:\n",
    "    print(\"Error: Invalid Choice\")"
   ]
  },
  {
   "cell_type": "markdown",
   "metadata": {
    "id": "DAbfhwglCspK"
   },
   "source": [
    "#### Plot of Trigonometric Functions (trignometric_functions.py)"
   ]
  },
  {
   "cell_type": "code",
   "execution_count": null,
   "metadata": {
    "id": "mLC7vToiCwJG"
   },
   "outputs": [],
   "source": [
    "import matplotlib.pyplot as plt\n",
    "import numpy as np\n",
    "t = np.arange(-2*np.pi, 2*np.pi, 0.01)\n",
    "y1 = np.sin(t) # sine\n",
    "y2 = np.cos(t) # cosine\n",
    "y3 = np.tan(t) # tangent\n",
    "y4 = np.cos(t) / np.sin(t) # cotangent\n",
    "y5 = 1 / np.cos(t) # secant\n",
    "y6 = 1 / np.sin(t) # cosecant\n",
    "plt.plot(t, y1, 'b', label='sin(t)')\n",
    "plt.plot(t, y2, 'r', label='cos(t)')\n",
    "plt.plot(t, y3, 'y', label='tan(t)')\n",
    "plt.plot(t, y4, 'm', label='cot(x)')\n",
    "plt.plot(t, y5, 'g', label='sec(t)')\n",
    "plt.plot(t, y6, 'c', label='csc(t)')\n",
    "plt.axis([-2*np.pi, 2*np.pi, -4, 4])\n",
    "plt.title(\"Plot of Trigonometric Functions\")\n",
    "plt.legend(loc = \"upper right\")\n",
    "plt.show()\n",
    "# plt.savefig(\"trignometric_function.png\")"
   ]
  },
  {
   "cell_type": "markdown",
   "metadata": {
    "id": "f74fW1luKR8o"
   },
   "source": [
    "#### Plot of Power (power_plot.py)"
   ]
  },
  {
   "cell_type": "code",
   "execution_count": null,
   "metadata": {
    "id": "6s0YihA5KWqD"
   },
   "outputs": [],
   "source": [
    "import matplotlib.pyplot as plt\n",
    "import numpy as np\n",
    "x = np.arange(0, 1, 0.01)\n",
    "sq = np.power(x, 2/1)\n",
    "cb = np.power(x, 3/1)\n",
    "sqrt = np.power(x, 1/2)\n",
    "cbrt = np.power(x, 1/3)\n",
    "plt.plot(x, cb, 'b', label='power(x, 3/1)')\n",
    "plt.plot(x, sq, 'r', label='power(x, 2/1)')\n",
    "plt.plot(x, x, 'y', label='power(x, 1/1)')\n",
    "plt.plot(x, sqrt, 'm', label='power(x, 1/2)')\n",
    "plt.plot(x, cbrt, 'g', label='power(x, 1/3)')\n",
    "plt.axis([0, 1, 0, 1])\n",
    "plt.legend(loc = \"upper right\")\n",
    "plt.title(\"Plot of Power\")\n",
    "plt.show()"
   ]
  },
  {
   "cell_type": "markdown",
   "metadata": {
    "id": "MRFRKeNuS4ei"
   },
   "source": [
    "#### Random 2D Plot (random2d_plot.py)"
   ]
  },
  {
   "cell_type": "code",
   "execution_count": null,
   "metadata": {
    "id": "fZ7FYiDBS-c2"
   },
   "outputs": [],
   "source": [
    "import matplotlib.pyplot as plt\n",
    "import numpy as np\n",
    "x = np.random.rand(1, 100)\n",
    "y = np.random.rand(1, 100)\n",
    "plt.plot(x, y, '.')\n",
    "plt.show()"
   ]
  },
  {
   "cell_type": "markdown",
   "metadata": {
    "id": "993r6lQ4O80c"
   },
   "source": [
    "#### Random 3D Plot (random3d_plot.py)"
   ]
  },
  {
   "cell_type": "code",
   "execution_count": null,
   "metadata": {
    "id": "Lj99veqePCiE"
   },
   "outputs": [],
   "source": [
    "import matplotlib.pyplot as plt\n",
    "import numpy as np\n",
    "\n",
    "fig = plt.figure()\n",
    "ax = plt.subplot(1, 1, 1, projection = '3d')\n",
    "\n",
    "x = np.random.rand(25, 25)\n",
    "y = np.random.rand(25, 25)\n",
    "z = np.random.rand(25, 25)\n",
    "\n",
    "ax.scatter(x, y, z)\n",
    "plt.show()"
   ]
  },
  {
   "cell_type": "markdown",
   "metadata": {
    "id": "MXifFbkMpzAg"
   },
   "source": [
    "#### Plot of Riemann Zeta Function (zeta_function_plot.py)"
   ]
  },
  {
   "cell_type": "code",
   "execution_count": null,
   "metadata": {
    "id": "3p0_9HHxp3F2"
   },
   "outputs": [],
   "source": [
    "import matplotlib.pyplot as plt\n",
    "import numpy as np\n",
    "import mpmath as mp\n",
    "\n",
    "x = np.arange(1.01, 10.00, 0.01)\n",
    "y = []\n",
    "\n",
    "for i in x: y.append(mp.zeta(i))\n",
    "\n",
    "plt.plot(x, y, 'r', label='Riemann Zeta Function')\n",
    "plt.legend(loc = \"upper right\")\n",
    "plt.axis([0, 8, 0, 10])\n",
    "plt.title(\"Plot of Riemann Zeta Function (x > 1)\")\n",
    "plt.show()"
   ]
  },
  {
   "cell_type": "markdown",
   "metadata": {
    "id": "sAe14Ie2779z"
   },
   "source": [
    "#### 3D Sphere Plot (3d_sphere_plot.py)"
   ]
  },
  {
   "cell_type": "code",
   "execution_count": null,
   "metadata": {
    "id": "9j8gHTlt8C5V"
   },
   "outputs": [],
   "source": [
    "from mpl_toolkits.mplot3d import Axes3D\n",
    "import matplotlib.pyplot as plt\n",
    "import numpy as np\n",
    "\n",
    "fig = plt.figure()\n",
    "ax = fig.add_subplot(111, projection='3d')\n",
    "\n",
    "u = np.linspace(0, 2*np.pi, 100)\n",
    "v = np.linspace(0, np.pi, 100)\n",
    "x = 10 * np.outer(np.cos(u), np.sin(v))\n",
    "y = 10 * np.outer(np.sin(u), np.sin(v))\n",
    "z = 10 * np.outer(np.ones(np.size(u)), np.cos(v))\n",
    "\n",
    "ax.plot_surface(x, y, z) \n",
    "ax.set_xlabel('X')\n",
    "ax.set_ylabel('Y')\n",
    "ax.set_zlabel('Z')\n",
    "\n",
    "plt.show()"
   ]
  },
  {
   "cell_type": "markdown",
   "metadata": {
    "id": "FTxf1EESULq6"
   },
   "source": [
    "#### Golden Ratio (golden_ratio.py)"
   ]
  },
  {
   "cell_type": "code",
   "execution_count": null,
   "metadata": {
    "id": "9L_I09Y4UPaJ"
   },
   "outputs": [],
   "source": [
    "import matplotlib.pyplot as plt\n",
    "import numpy as np\n",
    "\n",
    "n1 = 0\n",
    "n2 = 1\n",
    "\n",
    "phi = (1+np.sqrt(5))/2\n",
    "frs = []\n",
    "\n",
    "for i in range(16):\n",
    "  nth = n1 + n2\n",
    "  n1 = n2\n",
    "  n2 = nth\n",
    "  frs.append(n2/n1)\n",
    "\n",
    "x = np.arange(1, 16+1)\n",
    "y1 = frs\n",
    "y2 = [phi] * 16\n",
    "\n",
    "plt.plot(x, y1, 'g-o', label='Fibonacci Ratio Sequence')\n",
    "plt.plot(x, y2, 'c-', label='Golden Ratio (1.618034...)')\n",
    "plt.axis([1, 16, 0.5, 2.5])\n",
    "plt.legend(loc='upper right')\n",
    "plt.grid()\n",
    "plt.show()"
   ]
  },
  {
   "cell_type": "markdown",
   "metadata": {
    "id": "ujTVFuim5K9y"
   },
   "source": [
    "#### Something Wrong Plot (something_wrong_plot.py)"
   ]
  },
  {
   "cell_type": "code",
   "execution_count": null,
   "metadata": {
    "id": "sc8ldHWi5Stj"
   },
   "outputs": [],
   "source": [
    "import matplotlib.pyplot as plt\n",
    "import numpy as np\n",
    "\n",
    "def sin(x): return np.sin(x)\n",
    "def cos(x): return np.cos(x)\n",
    "def tan(x): return np.tan(x)\n",
    "def cot(x): return 1/np.tan(x)\n",
    "def sec(x): return 1/np.cos(x)\n",
    "def csc(x): return 1/np.sin(x)\n",
    "\n",
    "x = np.arange(-2*np.pi, 2*np.pi, 0.01)\n",
    "y = sin(cos(tan(cot(sec(csc(x))))))\n",
    "\n",
    "plt.plot(x, y, 'r', label='sin(cos(tan(cot(sec(csc(x))))))')\n",
    "plt.legend(loc=\"upper right\")\n",
    "plt.title(\"Something Wrong Plot\")\n",
    "plt.axis([-2*np.pi, 2*np.pi, -1.5, 1.5])\n",
    "plt.grid()\n",
    "plt.show()"
   ]
  },
  {
   "cell_type": "markdown",
   "metadata": {
    "id": "VVCXGB-ZcYcp"
   },
   "source": [
    "#### Bitcoin Predict (btc-predict,py)"
   ]
  },
  {
   "cell_type": "code",
   "execution_count": null,
   "metadata": {
    "id": "It0hFO4McfQi"
   },
   "outputs": [],
   "source": [
    "!pip install pyupbit"
   ]
  },
  {
   "cell_type": "code",
   "execution_count": null,
   "metadata": {
    "id": "8CT_hYDfchFb"
   },
   "outputs": [],
   "source": [
    "import pyupbit\n",
    "from fbprophet import Prophet\n",
    "df = pyupbit.get_ohlcv(\"KRW-BTC\", interval=\"minute60\")\n",
    "df = df.reset_index()\n",
    "df['ds'] = df['index']\n",
    "df['y'] = df['close']\n",
    "data = df[['ds','y']]\n",
    "model = Prophet()\n",
    "model.fit(data)\n",
    "future = model.make_future_dataframe(periods=24, freq='H')\n",
    "forecast = model.predict(future)\n",
    "fig = model.plot(forecast)"
   ]
  },
  {
   "cell_type": "markdown",
   "metadata": {
    "id": "vp-yYbSvJ5vU"
   },
   "source": [
    "#### Stock History Plot (stock_hist_plt.py)"
   ]
  },
  {
   "cell_type": "code",
   "execution_count": null,
   "metadata": {
    "id": "cYJqSCVbJqXq"
   },
   "outputs": [],
   "source": [
    "import matplotlib.pyplot as plt\n",
    "import json, requests, pandas\n",
    "\n",
    "print(\"Stock History Plotting Tool v1.0\\n\")\n",
    "symbol = input(\"Enter symbol: \")\n",
    "\n",
    "apikey = '0e1a0c0ce8b16e6007db23008a76dafb'\n",
    "price_list = []\n",
    "history = requests.get(f\"https://financialmodelingprep.com/api/v3/historical-price-full/{symbol}?serietype=line&apikey={apikey}\").json()\n",
    "history = history[\"historical\"]\n",
    "\n",
    "df = pandas.DataFrame.from_dict(history)\n",
    "df = df.rename({'close': symbol}, axis=1)\n",
    "price_list.append(df)\n",
    "dfs = [d.set_index('date') for d in price_list]\n",
    "\n",
    "concat = pandas.concat(dfs,axis=1)\n",
    "concat = concat/concat.iloc[0]\n",
    "concat.plot().invert_xaxis()\n",
    "plt.show()"
   ]
  },
  {
   "cell_type": "markdown",
   "metadata": {
    "id": "2u_nkATBJzPa"
   },
   "source": [
    "#### WebCam Viewer (webcam_viewer.py)"
   ]
  },
  {
   "cell_type": "code",
   "execution_count": null,
   "metadata": {
    "id": "C_zQo5LiJp3q"
   },
   "outputs": [],
   "source": [
    "# not working on colaboratory\n",
    "\n",
    "import cv2\n",
    "\n",
    "print(\"WebCam Viewer v1.0\")\n",
    "print(\"Copyright (c) 2020 miniprime1\")\n",
    "print(\"[Press q to exit]\")\n",
    "\n",
    "capture = cv2.VideoCapture(0)\n",
    "capture.set(cv2.CAP_PROP_FRAME_WIDTH, 640)\n",
    "capture.set(cv2.CAP_PROP_FRAME_HEIGHT, 480)\n",
    "\n",
    "while cv2.waitKey(113) < 0:\n",
    "    # press q to exit\n",
    "    ret, frame = capture.read()\n",
    "    cv2.imshow(\"WebCam Viewer\", frame)\n",
    "\n",
    "capture.release()\n",
    "cv2.destroyAllWindows()"
   ]
  },
  {
   "cell_type": "markdown",
   "metadata": {
    "id": "jjpBxuWYVZdo"
   },
   "source": [
    "#### media2ascii (media2ascii.py)"
   ]
  },
  {
   "cell_type": "code",
   "execution_count": null,
   "metadata": {
    "id": "MIQjH4nFVheM"
   },
   "outputs": [],
   "source": [
    "import cv2\n",
    "\n",
    "CHARS = '.,-~:;=!*#$@'\n",
    "nw = 100\n",
    "\n",
    "print(\"media2ascii v1.0\")\n",
    "print(\"Copyright (c) 2020 miniprime1\\n\")\n",
    "\n",
    "print(\"Options\")\n",
    "print(\"1. image2ascii\")\n",
    "print(\"2. video2ascii\")\n",
    "option = input(\"Enter choice: \")\n",
    "\n",
    "if option == '1':\n",
    "  opath = input(\"\\nEnter File Path: \")\n",
    "  spath = input(\"Enter Save Path: \")\n",
    "  f = open(spath, 'w')\n",
    "  print(\"\\n\", end='')\n",
    "  print(\"\\x1b[2J\", end='')\n",
    "  img = cv2.imread(opath)\n",
    "  img = cv2.cvtColor(img, cv2.COLOR_BGR2GRAY)\n",
    "  h, w = img.shape\n",
    "  nh = int(h / w * nw)\n",
    "  img = cv2.resize(img, (nw * 2, nh))\n",
    "  for row in img:\n",
    "    for pixel in row:\n",
    "      index = int(pixel / 256 * len(CHARS))\n",
    "      f.write(CHARS[index])\n",
    "      print(CHARS[index], end='')\n",
    "    f.write('\\n')\n",
    "    print()\n",
    "  f.close()\n",
    "\n",
    "elif option == '2':\n",
    "  opath = input(\"\\nEnter File Path: \")\n",
    "  cap = cv2.VideoCapture(opath)\n",
    "  print(\"\\n\", end='')\n",
    "  print(\"\\x1b[2J\", end='')\n",
    "  while cap.isOpened():\n",
    "    ret, img = cap.read()\n",
    "    if not ret: break\n",
    "    img = cv2.cvtColor(img, cv2.COLOR_BGR2GRAY)\n",
    "    h, w = img.shape\n",
    "    nh = int(h / w * nw)\n",
    "    img = cv2.resize(img, (nw * 2, nh))\n",
    "    for row in img:\n",
    "      for pixel in row:\n",
    "        index = int(pixel / 256 * len(CHARS))\n",
    "        print(CHARS[index], end='')\n",
    "      print()\n",
    "    print('\\x1b[H', end='')\n",
    "    \n",
    "else:\n",
    "  print(\"Error: invalid choice!\")"
   ]
  },
  {
   "cell_type": "markdown",
   "metadata": {
    "id": "oPNXWnhoiCFM"
   },
   "source": [
    "#### RGB Test (test_rgb.py)"
   ]
  },
  {
   "cell_type": "code",
   "execution_count": null,
   "metadata": {
    "id": "1txxN9QHjXtb"
   },
   "outputs": [],
   "source": [
    "# 2021-03-09\n",
    "\n",
    "# Start\n",
    "# I will test RGB because I can't trust science tr.\n",
    "\n",
    "# Contents\n",
    "# 1. R+G+B=W\n",
    "# 2. R+G=Y; G+B=C; B+R=M;\n",
    "# 3. None=Black (0,0,0)\n",
    "\n",
    "# Import Module\n",
    "from PIL import Image\n",
    "from matplotlib import pyplot as plt\n",
    "\n",
    "# Make Figure + Axis\n",
    "fig, ax = plt.subplots(2, 4)\n",
    "\n",
    "# Create Image by RGB\n",
    "n = Image.new('RGB', (3, 2), color=(0,0,0))\n",
    "r = Image.new('RGB', (3, 2), color=(255,0,0))\n",
    "g = Image.new('RGB', (3, 2), color=(0,255,0))\n",
    "b = Image.new('RGB', (3, 2), color=(0,0,255))\n",
    "y = Image.new('RGB', (3, 2), color=(255,255,0))\n",
    "c = Image.new('RGB', (3, 2), color=(0,255,255))\n",
    "m = Image.new('RGB', (3, 2), color=(255,0,255))\n",
    "w = Image.new('RGB', (3, 2), color=(255,255,255))\n",
    "\n",
    "# Black [(0, 0, 0), {None}]\n",
    "ax[0,0].imshow(n)\n",
    "ax[0,0].title.set_text(\"Black\")\n",
    "\n",
    "# Red [(255, 0, 0), {R}]\n",
    "ax[0,1].imshow(r)\n",
    "ax[0,1].title.set_text(\"Red\")\n",
    "\n",
    "# Green [(0, 255, 0), {G}]\n",
    "ax[0,2].imshow(g)\n",
    "ax[0,2].title.set_text(\"Green\")\n",
    "\n",
    "# Blue [(0, 0, 255), {B}]\n",
    "ax[0,3].imshow(b)\n",
    "ax[0,3].title.set_text(\"Blue\")\n",
    "\n",
    "# Yellow [(255, 255, 0), {R+G}]\n",
    "ax[1,0].imshow(y)\n",
    "ax[1,0].title.set_text(\"Yellow\")\n",
    "\n",
    "# Cyan [(0, 255, 255), {G+B}]\n",
    "ax[1,1].imshow(c)\n",
    "ax[1,1].title.set_text(\"Cyan\")\n",
    "\n",
    "# Magenta [(255, 0, 255), {B+R}]\n",
    "ax[1,2].imshow(m)\n",
    "ax[1,2].title.set_text(\"Magenta\")\n",
    "\n",
    "# White [(255, 255, 255), {R+G+B}]\n",
    "ax[1,3].imshow(w)\n",
    "ax[1,3].title.set_text(\"White\")\n",
    "\n",
    "# Show Plot\n",
    "plt.show()\n",
    "\n",
    "# More Detailed Title Text\n",
    "# ax[0,0].title.set_text(\"Black [(0, 0, 0), {None}]\")\n",
    "# ax[0,1].title.set_text(\"Red [(255, 0, 0), {R}]\")\n",
    "# ax[0,2].title.set_text(\"Green [(0, 255, 0), {G}]\")\n",
    "# ax[0,3].title.set_text(\"Blue [(0, 0, 255), {B}]\")\n",
    "# ax[1,0].title.set_text(\"Yellow [(255, 255, 0), {R+G}]\")\n",
    "# ax[1,1].title.set_text(\"Cyan [(0, 255, 255), {G+B}]\")\n",
    "# ax[1,2].title.set_text(\"Magenta [(255, 0, 255), {B+R}]\")\n",
    "# ax[1,3].title.set_text(\"White [(255, 255, 255), {R+G+B}]\")\n",
    "\n",
    "# Conclusion\n",
    "# My science tr. is right.\n",
    "# RGB was real.\n",
    "\n",
    "# Note\n",
    "# 아니 진짜 이게 되네."
   ]
  },
  {
   "cell_type": "markdown",
   "metadata": {
    "id": "zF8uPoGJCrks"
   },
   "source": [
    "#### RGB Calulator (rgb_calc.py)"
   ]
  },
  {
   "cell_type": "code",
   "execution_count": null,
   "metadata": {
    "id": "otwOuxOkrKmx"
   },
   "outputs": [],
   "source": [
    "from PIL import Image\n",
    "import matplotlib.pyplot as plt\n",
    "\n",
    "print(\"RGB Calculator v1.0\")\n",
    "print(\"Copyright (c) 2020 miniprime1\\n\")\n",
    "r = int(input(\"Enter R Value: \"))\n",
    "g = int(input(\"Enter G Value: \"))\n",
    "b = int(input(\"Enter B Value: \"))\n",
    "print()\n",
    "if (r > 255) or (g > 255) or (b > 255): print(\"Error: Please enter valid input: Values for R, G and B should be from 0 to 255 only\\n\")\n",
    "\n",
    "try: img = Image.new('RGB', (3, 2), color=(r,g,b))\n",
    "except Exception as err: print(\"Error:\", str(err))\n",
    "tmp = plt.imshow(img)"
   ]
  },
  {
   "cell_type": "markdown",
   "metadata": {
    "id": "x3LW6Lbb65LK"
   },
   "source": [
    "#### QR Code Generator (qrcode_gen.py)"
   ]
  },
  {
   "cell_type": "code",
   "execution_count": null,
   "metadata": {
    "id": "SOSlTmSd7BYK"
   },
   "outputs": [],
   "source": [
    "!pip install pillow\n",
    "!pip install qrcode"
   ]
  },
  {
   "cell_type": "code",
   "execution_count": null,
   "metadata": {
    "id": "BaOWxMuR6_SW"
   },
   "outputs": [],
   "source": [
    "import matplotlib.pyplot as plt\n",
    "import qrcode\n",
    "print(\"QR Code Generator v1.0\")\n",
    "print(\"Copyright (c) 2020 miniprime1\")\n",
    "input_data = input(\"\\nEnter Text: \")\n",
    "print(\"\\n\", end='')\n",
    "qr = qrcode.QRCode(version=1, box_size=10, border=5)\n",
    "qr.add_data(input_data)\n",
    "qr.make(fit=True)\n",
    "img = qr.make_image(fill='black', back_color='white')\n",
    "img.save('qrcode.png')\n",
    "tmp = plt.imshow(img)\n",
    "print(\"Result: qrcode.png\")"
   ]
  },
  {
   "cell_type": "markdown",
   "metadata": {
    "id": "iQ8tXD8-x81_"
   },
   "source": [
    "#### Cycloid (cycloid.py)"
   ]
  },
  {
   "cell_type": "code",
   "execution_count": null,
   "metadata": {
    "id": "R7CrEodGx_P0"
   },
   "outputs": [],
   "source": [
    "import matplotlib.pyplot as plt\n",
    "import numpy as np\n",
    "\n",
    "# Variable\n",
    "a = 1\n",
    "\n",
    "# Cycloid\n",
    "t = np.linspace(0, 2*np.pi, 1000);\n",
    "x = a * (t - np.sin(t))\n",
    "y = a * (1 - np.cos(t))\n",
    "plt.plot(x, y, \"b--\", label='Cycloid')\n",
    "\n",
    "# Circle\n",
    "xc = np.linspace(-1, 1, 1000);\n",
    "ycp = 1 + np.sqrt(a**2 - np.power(xc,2));\n",
    "ycm = 1 - np.sqrt(a**2 - np.power(xc,2));\n",
    "plt.plot(xc, ycp, \"k\", label='Circle');\n",
    "plt.plot(xc, ycm, \"k\");\n",
    "\n",
    "# Point\n",
    "plt.plot(0, 0, \"b.\", markersize=15, label='Point');\n",
    "\n",
    "# XY Axis\n",
    "xax = plt.plot([0, 0], [-1, 3], \"k\", linewidth=1);\n",
    "yax = plt.plot([-2, 2*np.pi+1], [0, 0], \"k\", linewidth=1);\n",
    "\n",
    "# Prettier Plot\n",
    "plt.axes().set_aspect('equal')\n",
    "plt.axis((-1-1, 2*np.pi+1, 0-1, 2*a+1))\n",
    "plt.grid()\n",
    "plt.legend()\n",
    "\n",
    "# Show Plot\n",
    "plt.show()"
   ]
  },
  {
   "cell_type": "markdown",
   "metadata": {
    "id": "MzZY7-8QaOzy"
   },
   "source": [
    "#### Lissajous Curve (lissajous_curve.py)"
   ]
  },
  {
   "cell_type": "code",
   "execution_count": null,
   "metadata": {
    "id": "QqqdjbDMaYQk"
   },
   "outputs": [],
   "source": [
    "import matplotlib.pyplot as plt\n",
    "import numpy as np\n",
    "\n",
    "# Print Program Name\n",
    "print(\"Lissajous Curve\\n\")\n",
    "\n",
    "# Input Variable\n",
    "a = int(input(\"Enter a: \"))\n",
    "b = int(input(\"Enter b: \"))\n",
    "m = int(input(\"Enter m: \"))\n",
    "n = int(input(\"Enter n: \"))\n",
    "alpha = int(input(\"Enter alpha: \"))\n",
    "beta = int(input(\"Enter beta: \"))\n",
    "print(\"\\n\", end='')\n",
    "\n",
    "# Draw Graph\n",
    "t = np.linspace(0, 2*np.pi, 1000);\n",
    "x = a * np.sin(m*t + alpha);\n",
    "y = b * np.sin(n*t + beta);\n",
    "plt.plot(x, y, 'b', label=\"Lissajous Curve\")\n",
    "plt.legend()\n",
    "\n",
    "# Show Plot\n",
    "plt.show()"
   ]
  },
  {
   "cell_type": "markdown",
   "metadata": {
    "id": "4QGnPYiIBF46"
   },
   "source": [
    "#### Heart (heart.py)"
   ]
  },
  {
   "cell_type": "code",
   "execution_count": null,
   "metadata": {
    "id": "13s7PVPxBJDL"
   },
   "outputs": [],
   "source": [
    "import numpy as np\n",
    "import matplotlib.pyplot as plt\n",
    "t = np.linspace(0, 2*np.pi, 100)\n",
    "x = 16 * (np.sin(t)**3)\n",
    "y = 13 * np.cos(t) - 5 * np.cos(2*t) - 2 * np.cos(3*t) - np.cos(4*t)\n",
    "plt.plot(x, y, 'r')\n",
    "plt.fill(x, y, 'r')\n",
    "plt.title('Heart')\n",
    "plt.show()\n",
    "# plt.savefig(\"heart.png\")"
   ]
  },
  {
   "cell_type": "markdown",
   "metadata": {
    "id": "X9yOhi38IScy"
   },
   "source": [
    "#### Sample Visualization (smaple_visualization.py)"
   ]
  },
  {
   "cell_type": "code",
   "execution_count": null,
   "metadata": {
    "id": "Pw6nYrR9Icc_"
   },
   "outputs": [],
   "source": [
    "import matplotlib.pyplot as plt\n",
    "import numpy as np\n",
    "ys = 200 + np.random.randn(100)\n",
    "x = [x for x in range(len(ys))]\n",
    "plt.plot(x, ys, '-')\n",
    "plt.fill_between(x, ys, 195, where=(ys > 195), facecolor='g', alpha=0.6)\n",
    "plt.title(\"Sample Visualization\")\n",
    "plt.show()"
   ]
  },
  {
   "cell_type": "markdown",
   "metadata": {
    "id": "MNDVhTNtkKPz"
   },
   "source": [
    "#### Taegeukgi (taegeukgi.py)"
   ]
  },
  {
   "cell_type": "code",
   "execution_count": null,
   "metadata": {
    "id": "OfhP0rQZkNnm"
   },
   "outputs": [],
   "source": [
    "from PIL import Image, ImageDraw\n",
    "from matplotlib import pyplot as plt\n",
    "\n",
    "class Taegeukgi():\n",
    "    def draw(self, w=1200, h=800):\n",
    "        img = Image.new('RGB', (w, h), color=(241, 241, 241))\n",
    "        taegeuk = Image.new('RGB', (h // 2, h // 2), color=(241, 241, 241))\n",
    "        draw = ImageDraw.Draw(taegeuk)\n",
    "        draw.pieslice((0, 0, h // 2, h // 2), start=180, end=360, fill=(205, 49, 58))\n",
    "        draw.pieslice((0, 0, h // 2, h // 2), start=0, end=180, fill=(0, 71, 160))\n",
    "        draw.ellipse((0, h // 8, h // 4, h * 3 // 8), fill=(205, 49, 58))\n",
    "        draw.ellipse((h // 4, h // 8, h // 2, h * 3 // 8), fill=(0, 71, 160))\n",
    "        taegeuk = taegeuk.rotate(-33.69, fillcolor=(241, 241, 241))\n",
    "        img.paste(taegeuk, (h // 2, h // 4))\n",
    "        sky = Image.new('RGB', (h // 4, h // 6), color=(14, 14, 14))\n",
    "        draw = ImageDraw.Draw(sky)\n",
    "        draw.rectangle((0, h * 2 // 48, h // 4, h * 3 // 48), fill=(241, 241, 241))\n",
    "        draw.rectangle((0, h * 5 // 48, h // 4, h * 6 // 48), fill=(241, 241, 241))\n",
    "        sky = sky.rotate(90 - 33.69, expand=True, fillcolor=(241, 241, 241))\n",
    "        img.paste(sky, (h * 22 // 96, h * 9 // 96))\n",
    "        earth = Image.new('RGB', (h // 4, h // 6), color=(14, 14, 14))\n",
    "        draw = ImageDraw.Draw(earth)\n",
    "        draw.rectangle((0, h * 2 // 48, h // 4, h * 3 // 48), fill=(241, 241, 241))\n",
    "        draw.rectangle((0, h * 5 // 48, h // 4, h * 6 // 48), fill=(241, 241, 241))\n",
    "        draw.rectangle((h * 11 // 96, 0, h * 13 // 96, h * 2 // 48), fill=(241, 241, 241)) # 1\n",
    "        draw.rectangle((h * 11 // 96, h * 3 // 48, h * 13 // 96, h * 5 // 48), fill=(241, 241, 241)) # 2\n",
    "        draw.rectangle((h * 11 // 96, h * 6 // 48, h * 13 // 96, h * 8 // 48), fill=(241, 241, 241)) # 3\n",
    "        earth = earth.rotate(90 - 33.69, expand=True, fillcolor=(241, 241, 241))\n",
    "        img.paste(earth, (h * 96 // 96, h * 59 // 96))\n",
    "        water = Image.new('RGB', (h // 4, h // 6), color=(14, 14, 14))\n",
    "        draw = ImageDraw.Draw(water)\n",
    "        draw.rectangle((0, h * 2 // 48, h // 4, h * 3 // 48), fill=(241, 241, 241))\n",
    "        draw.rectangle((0, h * 5 // 48, h // 4, h * 6 // 48), fill=(241, 241, 241))\n",
    "        draw.rectangle((h * 11 // 96, 0, h * 13 // 96, h * 2 // 48), fill=(241, 241, 241)) # 1\n",
    "        draw.rectangle((h * 11 // 96, h * 6 // 48, h * 13 // 96, h * 8 // 48), fill=(241, 241, 241)) # 3\n",
    "        water = water.rotate(90 + 33.69, expand=True, fillcolor=(241, 241, 241))\n",
    "        img.paste(water, (h * 96 // 96, h * 9 // 96))\n",
    "        fire = Image.new('RGB', (h // 4, h // 6), color=(14, 14, 14))\n",
    "        draw = ImageDraw.Draw(fire)\n",
    "        draw.rectangle((0, h * 2 // 48, h // 4, h * 3 // 48), fill=(241, 241, 241))\n",
    "        draw.rectangle((0, h * 5 // 48, h // 4, h * 6 // 48), fill=(241, 241, 241))\n",
    "        draw.rectangle((h * 11 // 96, h * 3 // 48, h * 13 // 96, h * 5 // 48), fill=(241, 241, 241)) # 2\n",
    "        fire = fire.rotate(90 + 33.69, expand=True, fillcolor=(241, 241, 241))\n",
    "        img.paste(fire, (h * 22 // 96, h * 59 // 96))\n",
    "        return img\n",
    "\n",
    "if __name__ == '__main__':\n",
    "  t = Taegeukgi().draw(w=1200, h=800)\n",
    "  i = plt.imshow(t)"
   ]
  },
  {
   "cell_type": "markdown",
   "metadata": {
    "id": "iWoXkvuNFk4h"
   },
   "source": [
    "## Web Python Files"
   ]
  },
  {
   "cell_type": "markdown",
   "metadata": {
    "id": "nCVlNvePFoHd"
   },
   "source": [
    "#### Hello World in Flask (hello_server_flask.py)"
   ]
  },
  {
   "cell_type": "code",
   "execution_count": null,
   "metadata": {
    "id": "G9rvid2OGsPk"
   },
   "outputs": [],
   "source": [
    "!pip install Flask\n",
    "!pip install flask-ngrok"
   ]
  },
  {
   "cell_type": "code",
   "execution_count": null,
   "metadata": {
    "id": "DFQr_ROzFto7"
   },
   "outputs": [],
   "source": [
    "from flask import Flask\n",
    "from flask_ngrok import run_with_ngrok\n",
    "app = Flask(__name__)\n",
    "run_with_ngrok(app)\n",
    "@app.route(\"/\")\n",
    "def hello(): return \"<p>Hello, World!</p>\"\n",
    "app.run()"
   ]
  },
  {
   "cell_type": "markdown",
   "metadata": {
    "id": "uhdfHWu1cBvQ"
   },
   "source": [
    "#### Simple Web Page (first_python_web.py)"
   ]
  },
  {
   "cell_type": "code",
   "execution_count": null,
   "metadata": {
    "id": "diul_TR8cHuG"
   },
   "outputs": [],
   "source": [
    "!pip install Flask\n",
    "!pip install flask-ngrok"
   ]
  },
  {
   "cell_type": "code",
   "execution_count": null,
   "metadata": {
    "id": "OP-SD4H0cI95"
   },
   "outputs": [],
   "source": [
    "from flask import Flask\n",
    "from flask_ngrok import run_with_ngrok\n",
    "\n",
    "app = Flask(__name__)\n",
    "run_with_ngrok(app)\n",
    "\n",
    "@app.route('/')\n",
    "@app.route('/home')\n",
    "def home():\n",
    "    return 'Hello, World!'\n",
    "\n",
    "@app.route('/user/<user_name>/<user_id>')\n",
    "def user(user_name, user_id):\n",
    "    return f'Hello, {user_name}({user_id})!'\n",
    "\n",
    "app.run()\n",
    "\n",
    "\"\"\"\n",
    "print(\"Simple Web Site v1.0\\n\")\n",
    "print(\"[Login]\")\n",
    "user_name = input(\"Username: \")\n",
    "user_id = input(\"User ID: \")\n",
    "user_pwd = input(\"Password: \")\n",
    "print(\"\")\n",
    "\"\"\""
   ]
  },
  {
   "cell_type": "markdown",
   "metadata": {
    "id": "55OMl9jOda50"
   },
   "source": [
    "#### URL Redirector (url_redirector_flask.py)\n",
    "\n"
   ]
  },
  {
   "cell_type": "code",
   "execution_count": null,
   "metadata": {
    "id": "15UrEeYknHWq"
   },
   "outputs": [],
   "source": [
    "!pip install Flask\n",
    "!pip install flask-ngrok"
   ]
  },
  {
   "cell_type": "code",
   "execution_count": null,
   "metadata": {
    "id": "LXCZHntHdfeJ"
   },
   "outputs": [],
   "source": [
    "from flask import Flask\n",
    "from flask_ngrok import run_with_ngrok\n",
    "\n",
    "app = Flask(__name__)\n",
    "run_with_ngrok(app)\n",
    "\n",
    "@app.route('/')\n",
    "def home():\n",
    "    return '''\n",
    "<!DOCTYPE html>\n",
    "<html>\n",
    "  <head>\n",
    "    <title>URL Redirector</title>\n",
    "  </head>\n",
    "  <body>\n",
    "    <script>\n",
    "    function redirect() {\n",
    "      var url = document.getElementById(\"input\").value;\n",
    "      location.replace(url);\n",
    "    }\n",
    "    </script>\n",
    "    <input placeholder=\"URL\" type=\"text\" id=\"input\" name=\"url\">\n",
    "    <button onclick=\"redirect()\" type=\"text\">Redirect</button>\n",
    "  </body>\n",
    "</html>\n",
    "'''\n",
    "\n",
    "app.run()"
   ]
  }
 ],
 "metadata": {
  "colab": {
   "collapsed_sections": [
    "TaDKOQpiq-GJ",
    "k_x95BCVJ9Nd",
    "6meUkvYRog_C",
    "r2VjQEoFonCU",
    "s4QczTb4o_4-",
    "slUIV2a2prHw",
    "lUhAsOCmlZS4",
    "a2jKy1EeqYcP",
    "4w8KuykPr7w6",
    "aGPgjC2r-AVU",
    "XtF_F_EO_ALX",
    "sbdT-MfT_fel",
    "Tv7kPDsCV0u_",
    "wObe3DZKFHFn",
    "Jzvc_6yiBOqZ",
    "KHx7azq4cBiV",
    "MVuKa9373clK",
    "DsgpqBz4otiY",
    "64fdgS9bOc61",
    "BIgGeqi5zjzW",
    "CQ2Dks097Hl9",
    "rHT-xEJcBUhG",
    "jbTmd1QsjBGg",
    "gvy2sc5i1CYA",
    "hFur7PI0B8eD",
    "oXDnSWm_rYAD",
    "nXxDBiMtBu7G",
    "urzoBTOiE0Cv",
    "DAbfhwglCspK",
    "f74fW1luKR8o",
    "MRFRKeNuS4ei",
    "993r6lQ4O80c",
    "MXifFbkMpzAg",
    "sAe14Ie2779z",
    "FTxf1EESULq6",
    "ujTVFuim5K9y",
    "VVCXGB-ZcYcp",
    "vp-yYbSvJ5vU",
    "2u_nkATBJzPa",
    "jjpBxuWYVZdo",
    "oPNXWnhoiCFM",
    "zF8uPoGJCrks",
    "x3LW6Lbb65LK",
    "iQ8tXD8-x81_",
    "MzZY7-8QaOzy",
    "4QGnPYiIBF46",
    "X9yOhi38IScy",
    "MNDVhTNtkKPz",
    "iWoXkvuNFk4h",
    "nCVlNvePFoHd",
    "uhdfHWu1cBvQ",
    "55OMl9jOda50"
   ],
   "name": "Python-Notebook.ipynb",
   "provenance": [],
   "toc_visible": true
  },
  "interpreter": {
   "hash": "243799ecf37d47d53cdc3623729dfb23c84e78f1322cf3c04c62ea1ccf2247b9"
  },
  "kernelspec": {
   "display_name": "Python 3.8.8 64-bit ('base': conda)",
   "name": "python3"
  },
  "language_info": {
   "codemirror_mode": {
    "name": "ipython",
    "version": 3
   },
   "file_extension": ".py",
   "mimetype": "text/x-python",
   "name": "python",
   "nbconvert_exporter": "python",
   "pygments_lexer": "ipython3",
   "version": "3.8.8"
  }
 },
 "nbformat": 4,
 "nbformat_minor": 1
}
