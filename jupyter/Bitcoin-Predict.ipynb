{
 "cells": [
  {
   "cell_type": "markdown",
   "source": [
    "# BTC-Predict: Bitcoin Price Prediction"
   ],
   "metadata": {
    "id": "6rckR1tRSvi_"
   }
  },
  {
   "cell_type": "code",
   "execution_count": 1,
   "source": [
    "!pip install pyupbit"
   ],
   "outputs": [
    {
     "output_type": "stream",
     "name": "stdout",
     "text": [
      "Collecting pyupbit\n",
      "  Downloading pyupbit-0.2.19-py3-none-any.whl (19 kB)\n",
      "Requirement already satisfied: requests in /usr/local/lib/python3.7/dist-packages (from pyupbit) (2.23.0)\n",
      "Collecting websockets\n",
      "  Downloading websockets-9.1-cp37-cp37m-manylinux2010_x86_64.whl (103 kB)\n",
      "\u001b[K     |████████████████████████████████| 103 kB 7.4 MB/s \n",
      "\u001b[?25hRequirement already satisfied: pandas in /usr/local/lib/python3.7/dist-packages (from pyupbit) (1.1.5)\n",
      "Collecting pyjwt>=2.0.0\n",
      "  Downloading PyJWT-2.1.0-py3-none-any.whl (16 kB)\n",
      "Requirement already satisfied: numpy>=1.15.4 in /usr/local/lib/python3.7/dist-packages (from pandas->pyupbit) (1.19.5)\n",
      "Requirement already satisfied: pytz>=2017.2 in /usr/local/lib/python3.7/dist-packages (from pandas->pyupbit) (2018.9)\n",
      "Requirement already satisfied: python-dateutil>=2.7.3 in /usr/local/lib/python3.7/dist-packages (from pandas->pyupbit) (2.8.2)\n",
      "Requirement already satisfied: six>=1.5 in /usr/local/lib/python3.7/dist-packages (from python-dateutil>=2.7.3->pandas->pyupbit) (1.15.0)\n",
      "Requirement already satisfied: idna<3,>=2.5 in /usr/local/lib/python3.7/dist-packages (from requests->pyupbit) (2.10)\n",
      "Requirement already satisfied: certifi>=2017.4.17 in /usr/local/lib/python3.7/dist-packages (from requests->pyupbit) (2021.5.30)\n",
      "Requirement already satisfied: urllib3!=1.25.0,!=1.25.1,<1.26,>=1.21.1 in /usr/local/lib/python3.7/dist-packages (from requests->pyupbit) (1.24.3)\n",
      "Requirement already satisfied: chardet<4,>=3.0.2 in /usr/local/lib/python3.7/dist-packages (from requests->pyupbit) (3.0.4)\n",
      "Installing collected packages: websockets, pyjwt, pyupbit\n",
      "Successfully installed pyjwt-2.1.0 pyupbit-0.2.19 websockets-9.1\n"
     ]
    }
   ],
   "metadata": {
    "colab": {
     "base_uri": "https://localhost:8080/"
    },
    "executionInfo": {
     "elapsed": 4794,
     "status": "ok",
     "timestamp": 1630540987980,
     "user": {
      "displayName": "남규민",
      "photoUrl": "https://lh3.googleusercontent.com/a-/AOh14GhsBYpfi1Oem3NS1TYlNtUBkAoRE-RUgxY5e7zjig=s64",
      "userId": "12754925554885264583"
     },
     "user_tz": -540
    },
    "id": "7qALczl_RgDd",
    "outputId": "ae3a924e-5161-4788-f779-73699e010f22"
   }
  },
  {
   "cell_type": "code",
   "execution_count": 2,
   "source": [
    "import pyupbit"
   ],
   "outputs": [],
   "metadata": {
    "executionInfo": {
     "elapsed": 255,
     "status": "ok",
     "timestamp": 1630540991114,
     "user": {
      "displayName": "남규민",
      "photoUrl": "https://lh3.googleusercontent.com/a-/AOh14GhsBYpfi1Oem3NS1TYlNtUBkAoRE-RUgxY5e7zjig=s64",
      "userId": "12754925554885264583"
     },
     "user_tz": -540
    },
    "id": "Z5OAfkNOTBsq"
   }
  },
  {
   "cell_type": "code",
   "execution_count": 3,
   "source": [
    "df = pyupbit.get_ohlcv(\"KRW-BTC\", interval=\"minute60\")\n",
    "df"
   ],
   "outputs": [
    {
     "output_type": "execute_result",
     "data": {
      "text/html": [
       "<div>\n",
       "<style scoped>\n",
       "    .dataframe tbody tr th:only-of-type {\n",
       "        vertical-align: middle;\n",
       "    }\n",
       "\n",
       "    .dataframe tbody tr th {\n",
       "        vertical-align: top;\n",
       "    }\n",
       "\n",
       "    .dataframe thead th {\n",
       "        text-align: right;\n",
       "    }\n",
       "</style>\n",
       "<table border=\"1\" class=\"dataframe\">\n",
       "  <thead>\n",
       "    <tr style=\"text-align: right;\">\n",
       "      <th></th>\n",
       "      <th>open</th>\n",
       "      <th>high</th>\n",
       "      <th>low</th>\n",
       "      <th>close</th>\n",
       "      <th>volume</th>\n",
       "      <th>value</th>\n",
       "    </tr>\n",
       "  </thead>\n",
       "  <tbody>\n",
       "    <tr>\n",
       "      <th>2021-08-25 02:00:00</th>\n",
       "      <td>340.0</td>\n",
       "      <td>345.0</td>\n",
       "      <td>339.0</td>\n",
       "      <td>341.0</td>\n",
       "      <td>6.840066e+07</td>\n",
       "      <td>2.344565e+10</td>\n",
       "    </tr>\n",
       "    <tr>\n",
       "      <th>2021-08-25 03:00:00</th>\n",
       "      <td>341.0</td>\n",
       "      <td>344.0</td>\n",
       "      <td>340.0</td>\n",
       "      <td>344.0</td>\n",
       "      <td>3.041157e+07</td>\n",
       "      <td>1.038767e+10</td>\n",
       "    </tr>\n",
       "    <tr>\n",
       "      <th>2021-08-25 04:00:00</th>\n",
       "      <td>344.0</td>\n",
       "      <td>349.0</td>\n",
       "      <td>342.0</td>\n",
       "      <td>348.0</td>\n",
       "      <td>2.624880e+07</td>\n",
       "      <td>9.071819e+09</td>\n",
       "    </tr>\n",
       "    <tr>\n",
       "      <th>2021-08-25 05:00:00</th>\n",
       "      <td>348.0</td>\n",
       "      <td>351.0</td>\n",
       "      <td>346.0</td>\n",
       "      <td>351.0</td>\n",
       "      <td>1.849547e+07</td>\n",
       "      <td>6.463768e+09</td>\n",
       "    </tr>\n",
       "    <tr>\n",
       "      <th>2021-08-25 06:00:00</th>\n",
       "      <td>351.0</td>\n",
       "      <td>352.0</td>\n",
       "      <td>345.0</td>\n",
       "      <td>345.0</td>\n",
       "      <td>2.391387e+07</td>\n",
       "      <td>8.322139e+09</td>\n",
       "    </tr>\n",
       "    <tr>\n",
       "      <th>...</th>\n",
       "      <td>...</td>\n",
       "      <td>...</td>\n",
       "      <td>...</td>\n",
       "      <td>...</td>\n",
       "      <td>...</td>\n",
       "      <td>...</td>\n",
       "    </tr>\n",
       "    <tr>\n",
       "      <th>2021-09-02 05:00:00</th>\n",
       "      <td>333.0</td>\n",
       "      <td>336.0</td>\n",
       "      <td>333.0</td>\n",
       "      <td>334.0</td>\n",
       "      <td>9.355183e+06</td>\n",
       "      <td>3.128548e+09</td>\n",
       "    </tr>\n",
       "    <tr>\n",
       "      <th>2021-09-02 06:00:00</th>\n",
       "      <td>334.0</td>\n",
       "      <td>337.0</td>\n",
       "      <td>333.0</td>\n",
       "      <td>336.0</td>\n",
       "      <td>1.479516e+07</td>\n",
       "      <td>4.957128e+09</td>\n",
       "    </tr>\n",
       "    <tr>\n",
       "      <th>2021-09-02 07:00:00</th>\n",
       "      <td>337.0</td>\n",
       "      <td>340.0</td>\n",
       "      <td>335.0</td>\n",
       "      <td>337.0</td>\n",
       "      <td>4.352556e+07</td>\n",
       "      <td>1.470055e+10</td>\n",
       "    </tr>\n",
       "    <tr>\n",
       "      <th>2021-09-02 08:00:00</th>\n",
       "      <td>338.0</td>\n",
       "      <td>341.0</td>\n",
       "      <td>337.0</td>\n",
       "      <td>340.0</td>\n",
       "      <td>4.607618e+07</td>\n",
       "      <td>1.562566e+10</td>\n",
       "    </tr>\n",
       "    <tr>\n",
       "      <th>2021-09-02 09:00:00</th>\n",
       "      <td>339.0</td>\n",
       "      <td>343.0</td>\n",
       "      <td>339.0</td>\n",
       "      <td>341.0</td>\n",
       "      <td>7.951445e+06</td>\n",
       "      <td>2.714393e+09</td>\n",
       "    </tr>\n",
       "  </tbody>\n",
       "</table>\n",
       "<p>200 rows × 6 columns</p>\n",
       "</div>"
      ],
      "text/plain": [
       "                      open   high    low  close        volume         value\n",
       "2021-08-25 02:00:00  340.0  345.0  339.0  341.0  6.840066e+07  2.344565e+10\n",
       "2021-08-25 03:00:00  341.0  344.0  340.0  344.0  3.041157e+07  1.038767e+10\n",
       "2021-08-25 04:00:00  344.0  349.0  342.0  348.0  2.624880e+07  9.071819e+09\n",
       "2021-08-25 05:00:00  348.0  351.0  346.0  351.0  1.849547e+07  6.463768e+09\n",
       "2021-08-25 06:00:00  351.0  352.0  345.0  345.0  2.391387e+07  8.322139e+09\n",
       "...                    ...    ...    ...    ...           ...           ...\n",
       "2021-09-02 05:00:00  333.0  336.0  333.0  334.0  9.355183e+06  3.128548e+09\n",
       "2021-09-02 06:00:00  334.0  337.0  333.0  336.0  1.479516e+07  4.957128e+09\n",
       "2021-09-02 07:00:00  337.0  340.0  335.0  337.0  4.352556e+07  1.470055e+10\n",
       "2021-09-02 08:00:00  338.0  341.0  337.0  340.0  4.607618e+07  1.562566e+10\n",
       "2021-09-02 09:00:00  339.0  343.0  339.0  341.0  7.951445e+06  2.714393e+09\n",
       "\n",
       "[200 rows x 6 columns]"
      ]
     },
     "metadata": {},
     "execution_count": 3
    }
   ],
   "metadata": {
    "colab": {
     "base_uri": "https://localhost:8080/",
     "height": 421
    },
    "executionInfo": {
     "elapsed": 1145,
     "status": "ok",
     "timestamp": 1630540994054,
     "user": {
      "displayName": "남규민",
      "photoUrl": "https://lh3.googleusercontent.com/a-/AOh14GhsBYpfi1Oem3NS1TYlNtUBkAoRE-RUgxY5e7zjig=s64",
      "userId": "12754925554885264583"
     },
     "user_tz": -540
    },
    "id": "e6igQmC4TDM-",
    "outputId": "ae688453-5847-4246-992d-72350ea02e2b"
   }
  },
  {
   "cell_type": "code",
   "execution_count": 4,
   "source": [
    "df = df.reset_index()\n",
    "df['ds'] = df['index']\n",
    "df['y'] = df['close']\n",
    "data = df[['ds','y']]\n",
    "data"
   ],
   "outputs": [
    {
     "output_type": "execute_result",
     "data": {
      "text/html": [
       "<div>\n",
       "<style scoped>\n",
       "    .dataframe tbody tr th:only-of-type {\n",
       "        vertical-align: middle;\n",
       "    }\n",
       "\n",
       "    .dataframe tbody tr th {\n",
       "        vertical-align: top;\n",
       "    }\n",
       "\n",
       "    .dataframe thead th {\n",
       "        text-align: right;\n",
       "    }\n",
       "</style>\n",
       "<table border=\"1\" class=\"dataframe\">\n",
       "  <thead>\n",
       "    <tr style=\"text-align: right;\">\n",
       "      <th></th>\n",
       "      <th>ds</th>\n",
       "      <th>y</th>\n",
       "    </tr>\n",
       "  </thead>\n",
       "  <tbody>\n",
       "    <tr>\n",
       "      <th>0</th>\n",
       "      <td>2021-08-25 02:00:00</td>\n",
       "      <td>341.0</td>\n",
       "    </tr>\n",
       "    <tr>\n",
       "      <th>1</th>\n",
       "      <td>2021-08-25 03:00:00</td>\n",
       "      <td>344.0</td>\n",
       "    </tr>\n",
       "    <tr>\n",
       "      <th>2</th>\n",
       "      <td>2021-08-25 04:00:00</td>\n",
       "      <td>348.0</td>\n",
       "    </tr>\n",
       "    <tr>\n",
       "      <th>3</th>\n",
       "      <td>2021-08-25 05:00:00</td>\n",
       "      <td>351.0</td>\n",
       "    </tr>\n",
       "    <tr>\n",
       "      <th>4</th>\n",
       "      <td>2021-08-25 06:00:00</td>\n",
       "      <td>345.0</td>\n",
       "    </tr>\n",
       "    <tr>\n",
       "      <th>...</th>\n",
       "      <td>...</td>\n",
       "      <td>...</td>\n",
       "    </tr>\n",
       "    <tr>\n",
       "      <th>195</th>\n",
       "      <td>2021-09-02 05:00:00</td>\n",
       "      <td>334.0</td>\n",
       "    </tr>\n",
       "    <tr>\n",
       "      <th>196</th>\n",
       "      <td>2021-09-02 06:00:00</td>\n",
       "      <td>336.0</td>\n",
       "    </tr>\n",
       "    <tr>\n",
       "      <th>197</th>\n",
       "      <td>2021-09-02 07:00:00</td>\n",
       "      <td>337.0</td>\n",
       "    </tr>\n",
       "    <tr>\n",
       "      <th>198</th>\n",
       "      <td>2021-09-02 08:00:00</td>\n",
       "      <td>340.0</td>\n",
       "    </tr>\n",
       "    <tr>\n",
       "      <th>199</th>\n",
       "      <td>2021-09-02 09:00:00</td>\n",
       "      <td>341.0</td>\n",
       "    </tr>\n",
       "  </tbody>\n",
       "</table>\n",
       "<p>200 rows × 2 columns</p>\n",
       "</div>"
      ],
      "text/plain": [
       "                     ds      y\n",
       "0   2021-08-25 02:00:00  341.0\n",
       "1   2021-08-25 03:00:00  344.0\n",
       "2   2021-08-25 04:00:00  348.0\n",
       "3   2021-08-25 05:00:00  351.0\n",
       "4   2021-08-25 06:00:00  345.0\n",
       "..                  ...    ...\n",
       "195 2021-09-02 05:00:00  334.0\n",
       "196 2021-09-02 06:00:00  336.0\n",
       "197 2021-09-02 07:00:00  337.0\n",
       "198 2021-09-02 08:00:00  340.0\n",
       "199 2021-09-02 09:00:00  341.0\n",
       "\n",
       "[200 rows x 2 columns]"
      ]
     },
     "metadata": {},
     "execution_count": 4
    }
   ],
   "metadata": {
    "colab": {
     "base_uri": "https://localhost:8080/",
     "height": 421
    },
    "executionInfo": {
     "elapsed": 7,
     "status": "ok",
     "timestamp": 1630540996520,
     "user": {
      "displayName": "남규민",
      "photoUrl": "https://lh3.googleusercontent.com/a-/AOh14GhsBYpfi1Oem3NS1TYlNtUBkAoRE-RUgxY5e7zjig=s64",
      "userId": "12754925554885264583"
     },
     "user_tz": -540
    },
    "id": "r4xuJxiXTEzT",
    "outputId": "3c7ef8be-9494-480e-dcbc-5a68f6c07f13"
   }
  },
  {
   "cell_type": "code",
   "execution_count": 5,
   "source": [
    "from fbprophet import Prophet"
   ],
   "outputs": [],
   "metadata": {
    "executionInfo": {
     "elapsed": 1383,
     "status": "ok",
     "timestamp": 1630541000366,
     "user": {
      "displayName": "남규민",
      "photoUrl": "https://lh3.googleusercontent.com/a-/AOh14GhsBYpfi1Oem3NS1TYlNtUBkAoRE-RUgxY5e7zjig=s64",
      "userId": "12754925554885264583"
     },
     "user_tz": -540
    },
    "id": "9PiE-hR_TGb3"
   }
  },
  {
   "cell_type": "code",
   "execution_count": 6,
   "source": [
    "model = Prophet()\n",
    "model.fit(data)"
   ],
   "outputs": [
    {
     "output_type": "stream",
     "name": "stderr",
     "text": [
      "INFO:numexpr.utils:NumExpr defaulting to 2 threads.\n",
      "INFO:fbprophet:Disabling yearly seasonality. Run prophet with yearly_seasonality=True to override this.\n",
      "INFO:fbprophet:Disabling weekly seasonality. Run prophet with weekly_seasonality=True to override this.\n"
     ]
    },
    {
     "output_type": "execute_result",
     "data": {
      "text/plain": [
       "<fbprophet.forecaster.Prophet at 0x7f8ea92fa7d0>"
      ]
     },
     "metadata": {},
     "execution_count": 6
    }
   ],
   "metadata": {
    "colab": {
     "base_uri": "https://localhost:8080/"
    },
    "executionInfo": {
     "elapsed": 2761,
     "status": "ok",
     "timestamp": 1630541004277,
     "user": {
      "displayName": "남규민",
      "photoUrl": "https://lh3.googleusercontent.com/a-/AOh14GhsBYpfi1Oem3NS1TYlNtUBkAoRE-RUgxY5e7zjig=s64",
      "userId": "12754925554885264583"
     },
     "user_tz": -540
    },
    "id": "yGy-eMYiTIAy",
    "outputId": "c2d0e1b9-1889-4df3-ad3f-4da3ff3bbd5a"
   }
  },
  {
   "cell_type": "code",
   "execution_count": 7,
   "source": [
    "future = model.make_future_dataframe(periods=24, freq='H')\n",
    "forecast = model.predict(future)"
   ],
   "outputs": [],
   "metadata": {
    "executionInfo": {
     "elapsed": 2213,
     "status": "ok",
     "timestamp": 1630541007644,
     "user": {
      "displayName": "남규민",
      "photoUrl": "https://lh3.googleusercontent.com/a-/AOh14GhsBYpfi1Oem3NS1TYlNtUBkAoRE-RUgxY5e7zjig=s64",
      "userId": "12754925554885264583"
     },
     "user_tz": -540
    },
    "id": "IXIb4qvlTJXg"
   }
  },
  {
   "cell_type": "code",
   "execution_count": 8,
   "source": [
    "fig = model.plot(forecast)"
   ],
   "outputs": [
    {
     "output_type": "display_data",
     "data": {
      "image/png": "[encoded data removed]",
      "text/plain": [
       "<Figure size 720x432 with 1 Axes>"
      ]
     },
     "metadata": {}
    }
   ],
   "metadata": {
    "colab": {
     "base_uri": "https://localhost:8080/",
     "height": 441
    },
    "executionInfo": {
     "elapsed": 1004,
     "status": "ok",
     "timestamp": 1630541009835,
     "user": {
      "displayName": "남규민",
      "photoUrl": "https://lh3.googleusercontent.com/a-/AOh14GhsBYpfi1Oem3NS1TYlNtUBkAoRE-RUgxY5e7zjig=s64",
      "userId": "12754925554885264583"
     },
     "user_tz": -540
    },
    "id": "e7gj0sFWTMDs",
    "outputId": "fc096b76-c080-4ad6-8102-312153b9a3fe"
   }
  }
 ],
 "metadata": {
  "colab": {
   "authorship_tag": "ABX9TyNvf4hSzMcXCHtZzcjHQKY9",
   "collapsed_sections": [],
   "name": "BTC-Predict.ipynb",
   "provenance": []
  },
  "kernelspec": {
   "name": "python3",
   "display_name": "Python 3.8.8 64-bit ('base': conda)"
  },
  "language_info": {
   "codemirror_mode": {
    "name": "ipython",
    "version": 3
   },
   "file_extension": ".py",
   "mimetype": "text/x-python",
   "name": "python",
   "nbconvert_exporter": "python",
   "pygments_lexer": "ipython3",
   "version": "3.8.8"
  },
  "interpreter": {
   "hash": "5239e6ac3dd21d8cda0f02f47457b2f7af48662f57fdbd701ff7a76f79b104a2"
  }
 },
 "nbformat": 4,
 "nbformat_minor": 1
}