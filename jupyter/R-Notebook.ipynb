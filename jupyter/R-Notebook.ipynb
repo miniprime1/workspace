{
 "cells": [
  {
   "cell_type": "markdown",
   "id": "experimental-cleveland",
   "metadata": {},
   "source": [
    "# R Notebook"
   ]
  },
  {
   "cell_type": "markdown",
   "id": "romantic-snake",
   "metadata": {},
   "source": [
    "#### Hello World (Hello-World.R)"
   ]
  },
  {
   "cell_type": "code",
   "execution_count": null,
   "id": "caroline-airline",
   "metadata": {},
   "outputs": [],
   "source": [
    "print(\"Hello, World!\")"
   ]
  },
  {
   "cell_type": "markdown",
   "id": "distant-asbestos",
   "metadata": {},
   "source": [
    "#### Calculator (Calculator.R)"
   ]
  },
  {
   "cell_type": "code",
   "execution_count": null,
   "id": "professional-kidney",
   "metadata": {},
   "outputs": [],
   "source": [
    "print(\"R Calculator v1.0\")\n",
    "print(\"\")\n",
    "print(\"Options\")\n",
    "print(\"1. Addition\")\n",
    "print(\"2. Subtraction\")\n",
    "print(\"3. Multiplication\")\n",
    "print(\"4. Division\")\n",
    "option = readline(prompt=\"Enter option: \")\n",
    "\n",
    "print(\"\")\n",
    "a = as.double(readline(prompt=\"Enter 1st input: \"))\n",
    "b = as.double(readline(prompt=\"Enter 2nd input: \"))\n",
    "\n",
    "print(\"\")\n",
    "if (option == \"1\") {\n",
    "  r = a+b\n",
    "  print(paste(\"Result:\", a, \"+\", b, \"=\", r))\n",
    "} else if (option == \"2\") {\n",
    "  r = a-b\n",
    "  print(paste(\"Result:\", a, \"-\", b, \"=\", r))\n",
    "} else if (option == \"2\") {\n",
    "  r = a*b\n",
    "  print(paste(\"Result:\", a, \"*\", b, \"=\", r))\n",
    "} else if (option == \"2\") {\n",
    "  r = a/b\n",
    "  print(paste(\"Result:\", a, \"/\", b, \"=\", r))\n",
    "} else {\n",
    "  print(\"Error: invalid choice.\")\n",
    "}"
   ]
  },
  {
   "cell_type": "markdown",
   "id": "surgical-learning",
   "metadata": {},
   "source": [
    "#### Derivative Calculator (Derivative-Calculator.R)"
   ]
  },
  {
   "cell_type": "code",
   "execution_count": null,
   "id": "simple-macro",
   "metadata": {},
   "outputs": [],
   "source": [
    "print(\"Derivative Calculator v1.0\")\n",
    "expr = readline(prompt=\"Enter function: \")\n",
    "f = parse(text=expr)\n",
    "Df = D(f, \"x\")\n",
    "print(paste(\"f(x) = \", expr))\n",
    "print(paste(\"f'(x) = \", deparse(Df)))"
   ]
  },
  {
   "cell_type": "markdown",
   "id": "lightweight-adobe",
   "metadata": {},
   "source": [
    "#### Integral Calculator (Integral-Calculator.R)"
   ]
  },
  {
   "cell_type": "code",
   "execution_count": null,
   "id": "ethical-collective",
   "metadata": {},
   "outputs": [],
   "source": [
    "print(\"Integral Calculator v1.0\")\n",
    "expr = readline(prompt=\"Enter function: \")\n",
    "l = strtoi(readline(prompt=\"Enter lower bound: \"))\n",
    "u = strtoi(readline(prompt=\"Enter upper bound: \"))\n",
    "eval(parse(text=paste(\"f = function(x) {\", expr, \"}\", sep=\"\")))\n",
    "S = integrate(f, l, u)\n",
    "print(paste(\"f(x) = \", expr, sep=\"\"))\n",
    "print(paste(\"F(x)|(\", l, \",\", u, \") = \", S[1], sep=\"\"))"
   ]
  },
  {
   "cell_type": "markdown",
   "id": "false-emission",
   "metadata": {},
   "source": [
    "#### E Calculator (E-Calculator.R)"
   ]
  },
  {
   "cell_type": "code",
   "execution_count": null,
   "id": "handed-chess",
   "metadata": {},
   "outputs": [],
   "source": [
    "e_r = sprintf(exp(1), fmt=\"%#.48f\")\n",
    "print(e_r)"
   ]
  },
  {
   "cell_type": "markdown",
   "id": "arabic-trauma",
   "metadata": {},
   "source": [
    "#### Pi Calculator (Pi-Calculator.R)"
   ]
  },
  {
   "cell_type": "code",
   "execution_count": null,
   "id": "peaceful-spell",
   "metadata": {},
   "outputs": [],
   "source": [
    "pi_r <- sprintf(acos(-1), fmt=\"%#.48f\")\n",
    "print(pi_r)"
   ]
  },
  {
   "cell_type": "markdown",
   "id": "through-nightmare",
   "metadata": {},
   "source": [
    "#### Quadratic Equation Solver (Quadratic-Equation-Solver.R)"
   ]
  },
  {
   "cell_type": "code",
   "execution_count": null,
   "id": "nearby-torture",
   "metadata": {},
   "outputs": [],
   "source": [
    "print(\"Quadratic Equation Solver v1.0\")\n",
    "print(\"Equation: ax^2+bx+c=0\")\n",
    "a = strtoi(readline(prompt=\"Enter 'a': \"))\n",
    "b = strtoi(readline(prompt=\"Enter 'b': \"))\n",
    "c = strtoi(readline(prompt=\"Enter 'c': \"))\n",
    "x1 = (-b+sqrt(b^2-4*a*c))/(2*a)\n",
    "x2 = (-b-sqrt(b^2-4*a*c))/(2*a)\n",
    "print(paste(\"x1\", \"=\", toString(x1)))\n",
    "print(paste(\"x2\", \"=\", toString(x2)))"
   ]
  },
  {
   "cell_type": "markdown",
   "id": "appropriate-kingdom",
   "metadata": {},
   "source": [
    "#### Plot of Trigonometric Functions (Trigonometeic-Functions.R)"
   ]
  },
  {
   "cell_type": "code",
   "execution_count": null,
   "id": "cheap-settle",
   "metadata": {},
   "outputs": [],
   "source": [
    "x <- seq(-2*pi,2*pi,0.01)\n",
    "\n",
    "plot(x, sin(x),\n",
    "  main = \"Plot of Trignometric Functions\",\n",
    "  type = \"l\",\n",
    "  xlim = range(-6.28, 6.28),\n",
    "  ylim = range(-4, 4),\n",
    "  col = \"blue\"\n",
    ")\n",
    "\n",
    "lines(x, cos(x), col=\"red\")\n",
    "lines(x, tan(x), col=\"yellow\")\n",
    "lines(x, cos(x)/sin(x), col=\"magenta\")\n",
    "lines(x, 1/cos(x), col=\"green\")\n",
    "lines(x, 1/sin(x), col=\"cyan\")\n",
    "\n",
    "legend(\"topright\",\n",
    "  c(\"sin(x)\", \"cos(x)\", \"tan(x)\", \"cot(x)\", \"sec(x)\", \"csc(x)\"),\n",
    "  fill = c(\"blue\", \"red\", \"yellow\", \"magenta\", \"green\", \"cyan\")\n",
    ")\n",
    "\n",
    "grid(\n",
    "  nx=NULL,\n",
    "  ny=NULL,\n",
    "  col=\"lightgray\",\n",
    "  lty = \"dotted\"\n",
    ")"
   ]
  },
  {
   "cell_type": "markdown",
   "id": "driven-immunology",
   "metadata": {},
   "source": [
    "#### Plot of Exponential Function"
   ]
  },
  {
   "cell_type": "code",
   "execution_count": null,
   "id": "numerical-hurricane",
   "metadata": {},
   "outputs": [],
   "source": [
    "x <- seq(-4, 4, 0.01)\n",
    "plot(x, exp(x), main=\"Plot of Exponential Function\", type=\"l\", col=\"blue\", xlim=range(-4, 4), ylim=range(0, 5))\n",
    "legend(\"topright\", c(\"exp(x)\"), fill=c(\"blue\"))\n",
    "grid(nx=NULL, ny=NULL, col=\"lightgray\", lty=\"dotted\")"
   ]
  },
  {
   "cell_type": "markdown",
   "id": "killing-fight",
   "metadata": {},
   "source": [
    "#### Euler-Mascheroni Constant (Euler-Mascheroni-Constant.R)"
   ]
  },
  {
   "cell_type": "code",
   "execution_count": null,
   "id": "confidential-stations",
   "metadata": {},
   "outputs": [],
   "source": [
    "eulergamma = -digamma(1)\n",
    "print(sprintf(eulergamma, fmt=\"%#.48f\"))"
   ]
  }
 ],
 "metadata": {
  "kernelspec": {
   "display_name": "R",
   "language": "R",
   "name": "ir"
  },
  "language_info": {
   "codemirror_mode": "r",
   "file_extension": ".r",
   "mimetype": "text/x-r-source",
   "name": "R",
   "pygments_lexer": "r",
   "version": "4.0.3"
  }
 },
 "nbformat": 4,
 "nbformat_minor": 5
}
