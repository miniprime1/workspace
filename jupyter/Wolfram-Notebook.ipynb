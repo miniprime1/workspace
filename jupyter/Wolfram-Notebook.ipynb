{
 "cells": [
  {
   "cell_type": "markdown",
   "id": "d8ef7fa6",
   "metadata": {},
   "source": [
    "# Wolfram Notebook"
   ]
  },
  {
   "cell_type": "markdown",
   "id": "0bb245fb",
   "metadata": {},
   "source": [
    "### Github: https://github.com/WolframResearch/WolframLanguageForJupyter"
   ]
  },
  {
   "cell_type": "markdown",
   "id": "5fac44d9",
   "metadata": {},
   "source": [
    "#### PopCat (PopCat.wls)"
   ]
  },
  {
   "cell_type": "code",
   "execution_count": null,
   "id": "e8db06e7",
   "metadata": {},
   "outputs": [],
   "source": [
    "Print[\"\\\n",
    "@@@@@@@@@@@@@@@@@@@@@@@@@@@@@@@@@@@@@@@@@@@@@@@@@@@\n",
    "@@@@@@@@@@@@@@@@@@@@@@@@@@@@@@@@@@@@@@@@@@@@@@@@@@@\n",
    "@@@,,,,,@@@@@@@@@@@@@@@@@@@@@@@@@@@@@,,,,.@@@@@@@@@\n",
    "@@//((///,,,@@@@@@@@@@@@@@@@@@@@@(**,,,,,,@@@@@@@@@\n",
    "@@((((/(//(/,,@@@@@@@/,,,......,///*,,****@@@@@@@@@\n",
    "@*(((((((//(((((((((/*,.         ..//(****,@@@@@@@@\n",
    "@*/((((((((/((((((/,,/##*.   .,*////,....*,,@@@@@@@\n",
    "@@***((((((((((((//(*.   .,*/(#%%%%%%#(*....,,@@@@@\n",
    "@@@*,***/(((((((/,....,*(%&@@@@@@@@@@@@@&#(/***.@@2\n",
    "@@@@,,*,*/((((%#/****/#@@@@@@@@@@@@@@@@@@@@%((/*@@@\n",
    "@@@@@ *(#####%%(////(&@@@@@@@@@@@@@@@@@@@@@@%#(/*@@\n",
    "@@@@@@@*#%&&&%((/((#&@@@@@@@@@@@@@@@@@@@@@@@%#(/*@@\n",
    "@@@@@@@*/%&&&#((/((#@@@&&&&&@@@@@@@@@&&&&&&&%#(//@@\n",
    "@@@@@@@@(*&&&%#(((((%&&&&&&&&&&&&&&&&&&&&&&%#((/(@@\n",
    "@@@@@@@@@,*%&%((/(/(((#%%%&&&&&&&&&&&&&&%%##((/*@@@\n",
    "@@@@@@@@@@*//((///////(((###%%%%%%%%%%%##((((/,@@@@\n",
    "@@@@@@@@@.*//////////////(((((((#####(((((((*@@@@@@\n",
    "@@@@@@@@@***///////////(/((((((((((((((((((*,@@@@@@\n",
    "@@@@@@@@*****///////////((((((((((((((((((/*@@@@@@@\n",
    "@@@@@@@,*****////////////////(((((((((((((/*(@@@@@@\n",
    "@@@@@@,******///*///////////((((/(((((((////(@@@@@@\n",
    "@@@@@@,**********////////////(((/(((((((////(@@@@@@\n",
    "@@@@@.**************/////////////(((((((////@@@@@@@\n",
    "@@@@@,***************////////////(((((((/(//@@@@@@@\n",
    "@@@@@,**************//////////////((/(((////@@@@@@@\n",
    "@@@@@,***////***//**/**/////////////(///(((/@@@@@@@\n",
    "@@@@@@@@@@@@@@@@@@@@@@@@@@@@@@@@@@@@@@@@@@@@@@@@@@@\n",
    "\"]"
   ]
  },
  {
   "cell_type": "markdown",
   "id": "4d3b534b",
   "metadata": {},
   "source": [
    "#### HelloWorld (HelloWorld.wls)"
   ]
  },
  {
   "cell_type": "code",
   "execution_count": null,
   "id": "6d8e98d1-86c6-4ab0-afbd-a09899a725b3",
   "metadata": {},
   "outputs": [],
   "source": [
    "Print[\"Hello, World!\"]"
   ]
  },
  {
   "cell_type": "markdown",
   "id": "1c34430b",
   "metadata": {},
   "source": [
    "#### Heart (Heart.wls)"
   ]
  },
  {
   "cell_type": "code",
   "execution_count": null,
   "id": "fa9ef6ae",
   "metadata": {},
   "outputs": [],
   "source": [
    "Plt = Plot[{Sqrt[Abs[x]] + Sqrt[6-Power[x,2]], Sqrt[Abs[x]] - Sqrt[6-Power[x,2]]}, {x, -Sqrt[6], Sqrt[6]}, PlotStyle -> Red]\n",
    "(*Export[\"heart.png\", Show[Plt, PlotRange -> All]]*) (*Save plot as png*)"
   ]
  },
  {
   "cell_type": "markdown",
   "id": "02efba33",
   "metadata": {},
   "source": [
    "#### Cycloid (Cycloid.wls)"
   ]
  },
  {
   "cell_type": "code",
   "execution_count": null,
   "id": "5aa665f2-edd2-4dcd-9689-8d70f5efd82c",
   "metadata": {},
   "outputs": [],
   "source": [
    "Plt = ParametricPlot[{t - Sin[t], 1 - Cos[t]}, {t, 0, 2Pi}]\n",
    "(*Export[\"cycloid.png\", Show[Plt, PlotRange -> All]]*) (*Save plot as png*)"
   ]
  },
  {
   "cell_type": "markdown",
   "id": "ffd134aa",
   "metadata": {},
   "source": [
    "#### Plot of Trigonometric Function (TrigFunc.wls)"
   ]
  },
  {
   "cell_type": "code",
   "execution_count": null,
   "id": "b24e8ba8",
   "metadata": {},
   "outputs": [],
   "source": [
    "Plt = Plot[{Sin[x], Cos[x], Tan[x], Cot[x], Sec[x], Csc[x]}, {x, -2*Pi, 2*Pi}, PlotRange -> {-4, 4}, PlotLegends -> \"Expressions\"]\n",
    "(*Export[\"trig_plot.png\", Plt]*) (*Save plot as png*)"
   ]
  },
  {
   "cell_type": "markdown",
   "id": "7e7f4531",
   "metadata": {},
   "source": [
    "#### Mandelbrot Set (MandelbrotSet.wls)"
   ]
  },
  {
   "cell_type": "code",
   "execution_count": null,
   "id": "c33b75f5",
   "metadata": {},
   "outputs": [],
   "source": [
    "Plt = MandelbrotSetPlot[]\n",
    "(*Export[\"mandelbrot_set.png\", Plt]*) (*Save plot as png*)"
   ]
  }
 ],
 "metadata": {
  "kernelspec": {
   "display_name": "Wolfram Language 12.3",
   "language": "Wolfram Language",
   "name": "wolframlanguage12.3"
  },
  "language_info": {
   "codemirror_mode": "mathematica",
   "file_extension": ".m",
   "mimetype": "application/vnd.wolfram.m",
   "name": "Wolfram Language",
   "pygments_lexer": "mathematica",
   "version": "12.0"
  }
 },
 "nbformat": 4,
 "nbformat_minor": 5
}
