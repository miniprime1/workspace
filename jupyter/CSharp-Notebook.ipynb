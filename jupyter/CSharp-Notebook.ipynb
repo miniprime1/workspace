{
 "cells": [
  {
   "cell_type": "markdown",
   "id": "5349a1cb",
   "metadata": {},
   "source": [
    "# CSharp Notebook (.NET)"
   ]
  },
  {
   "cell_type": "markdown",
   "id": "788bf9c7",
   "metadata": {},
   "source": [
    "#### PopCat (popcat.cs)"
   ]
  },
  {
   "cell_type": "code",
   "execution_count": null,
   "id": "625bdac0",
   "metadata": {
    "dotnet_interactive": {
     "language": "csharp"
    }
   },
   "outputs": [],
   "source": [
    "Console.WriteLine(@\"@@@@@@@@@@@@@@@@@@@@@@@@@@@@@@@@@@@@@@@@@@@@@@@@@@@\n",
    "@@@@@@@@@@@@@@@@@@@@@@@@@@@@@@@@@@@@@@@@@@@@@@@@@@@\n",
    "@@@@@@@@@@@@@@@@@@@@@@@@@@@@@@@@@@@@@@,,,,,@@@@@@@@\n",
    "@@@@@*//((//*/@@@@@@@@@@@@@@@@@@@@@@**,,,,,%@@@@@@@\n",
    "@@@@@*(((////(/*,@@@@@@@@@@@@@@@@@///*,,,**%@@@@@@@\n",
    "@@@@@*((((((///((((///////**.     .*/******@@@@@@@@\n",
    "@@@@@(/(((((((//(((((//*..          .,*//**@@@@@@@@\n",
    "@@@@@@(**((((((///////*(####*       ,#%%#/*,@@@@@@@\n",
    "@@@@@@@/****(((((((((/,,,((#/,        .....,//@@@@@\n",
    "@@@@@@@@,,**/((((##%#(*,,,...  ..,////.....,*//*@@@\n",
    "@@@@@@@@@,/#####%%%%#(///////((((/((((((((((((//(@@\n",
    "@@@@@@@@@@,(%%%&&&%##///(((((((((((((((((((((((/,@@\n",
    "@@@@@@@@@@@*#%&&&&###(///((((((((((((((((((((((*#@@\n",
    "@@@@@@@@@@@@*#&&&&%%((////(((((((((((((((((((/*@@@@\n",
    "@@@@@@@@@@@@@,(%%&#((////////(((((((((((((((/,@@@@@\n",
    "@@@@@@@@@@@@@,////////////////(((((((((((((/*,@@@@@\n",
    "@@@@@@@@@@@@***//////////////((((((((((((((/*,@@@@@\n",
    "@@@@@@@@@@@***//////////////////(((((((((((/**@@@@@\n",
    "@@@@@@@@@@(****///////////////////((((((((///*@@@@@\n",
    "@@@@@@@@@@******////////////////////(((((((//**@@@@\n",
    "@@@@@@@@@,******////////////////////((((((////(@@@@\n",
    "@@@@@@@@@********////////////////////(((((////*@@@@\n",
    "@@@@@@@@.************/////////////////(((((///*@@@@\n",
    "@@@@@@@@,************////////////////((((/////*@@@@\n",
    "@@@@@@@@,************////////////////((((/////,@@@@\n",
    "@@@@@@@@***/*******///////////////////////////,%@@@\n",
    "@@@@@@@@************//////////////////////////,,@@@\");"
   ]
  },
  {
   "cell_type": "markdown",
   "id": "8c5f393e",
   "metadata": {},
   "source": [
    "#### Hello World (hello_world.cs)"
   ]
  },
  {
   "cell_type": "code",
   "execution_count": null,
   "id": "cf070939",
   "metadata": {
    "dotnet_interactive": {
     "language": "csharp"
    }
   },
   "outputs": [],
   "source": [
    "System.Console.WriteLine(\"Hello, World!\");"
   ]
  },
  {
   "cell_type": "markdown",
   "id": "3fbefee4",
   "metadata": {},
   "source": [
    "#### Time (time.cs)"
   ]
  },
  {
   "cell_type": "code",
   "execution_count": null,
   "id": "7313e15a",
   "metadata": {
    "dotnet_interactive": {
     "language": "csharp"
    }
   },
   "outputs": [],
   "source": [
    "Console.Write(DateTime.Now.ToString(\"yyyy-MM-dd HH:mm:ss\"));"
   ]
  },
  {
   "cell_type": "markdown",
   "id": "2edb0bf3",
   "metadata": {},
   "source": [
    "#### Multiplication Table (multiplication-table.cs)"
   ]
  },
  {
   "cell_type": "code",
   "execution_count": null,
   "id": "4ecf2477",
   "metadata": {
    "dotnet_interactive": {
     "language": "csharp"
    }
   },
   "outputs": [],
   "source": [
    "for (int i = 1; i < 13; i++) {\n",
    "    for (int j = 1; j < 13; j++) {\n",
    "        Console.WriteLine($\"{i} * {j} = {i * j}\");\n",
    "    }\n",
    "    Console.Write(\"\\n\");\n",
    "}"
   ]
  },
  {
   "cell_type": "markdown",
   "id": "e294262e",
   "metadata": {},
   "source": [
    "#### Pi (pi.cs)"
   ]
  },
  {
   "cell_type": "code",
   "execution_count": null,
   "id": "35076e9e",
   "metadata": {
    "dotnet_interactive": {
     "language": "csharp"
    }
   },
   "outputs": [],
   "source": [
    "Console.WriteLine(Acos(-1));"
   ]
  }
 ],
 "metadata": {
  "kernelspec": {
   "display_name": ".NET (C#)",
   "language": "C#",
   "name": ".net-csharp"
  },
  "language_info": {
   "file_extension": ".cs",
   "mimetype": "text/x-csharp",
   "name": "C#",
   "pygments_lexer": "csharp",
   "version": "9.0"
  }
 },
 "nbformat": 4,
 "nbformat_minor": 5
}
