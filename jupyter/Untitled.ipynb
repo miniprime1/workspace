{
 "cells": [
  {
   "cell_type": "code",
   "execution_count": null,
   "id": "lightweight-dressing",
   "metadata": {},
   "outputs": [],
   "source": [
    "print(''.join([chr((0x726f79>>8*i)%0x100^10) for i in range(3)]))"
   ]
  }
 ],
 "metadata": {
  "kernelspec": {
   "display_name": "Python 3",
   "language": "python",
   "name": "python3"
  },
  "language_info": {
   "codemirror_mode": {
    "name": "ipython",
    "version": 3
   },
   "file_extension": ".py",
   "mimetype": "text/x-python",
   "name": "python",
   "nbconvert_exporter": "python",
   "pygments_lexer": "ipython3",
   "version": "3.8.6"
  }
 },
 "nbformat": 4,
 "nbformat_minor": 5
}
