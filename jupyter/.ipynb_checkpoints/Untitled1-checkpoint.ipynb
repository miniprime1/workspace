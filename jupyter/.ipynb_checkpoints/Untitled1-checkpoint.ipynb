{
 "cells": [
  {
   "cell_type": "code",
   "execution_count": null,
   "id": "ee6333de",
   "metadata": {},
   "outputs": [],
   "source": [
    "Plot[Evaluate[\n",
    "  Input[\"Please input a function of x to plot on the unit \\\n",
    "interval\"]], {x, 0, 1}]"
   ]
  },
  {
   "cell_type": "code",
   "execution_count": null,
   "id": "935662e2",
   "metadata": {},
   "outputs": [],
   "source": []
  },
  {
   "cell_type": "code",
   "execution_count": null,
   "id": "4a3c97d2",
   "metadata": {},
   "outputs": [],
   "source": []
  }
 ],
 "metadata": {
  "kernelspec": {
   "display_name": "Wolfram Language 12.3",
   "language": "Wolfram Language",
   "name": "wolframlanguage12.3"
  }
 },
 "nbformat": 4,
 "nbformat_minor": 5
}
